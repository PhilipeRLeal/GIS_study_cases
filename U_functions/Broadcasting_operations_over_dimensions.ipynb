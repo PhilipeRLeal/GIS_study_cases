{
 "cells": [
  {
   "cell_type": "code",
   "execution_count": 1,
   "metadata": {},
   "outputs": [
    {
     "data": {
      "text/plain": [
       "<xarray.DataArray 'NDVI' (x: 2, y: 3)>\n",
       "array([[ 0.034113,  0.030692, -0.8512  ],\n",
       "       [-1.331127, -0.651142, -1.958462]])\n",
       "Coordinates:\n",
       "  * x        (x) int32 10 20\n",
       "Dimensions without coordinates: y"
      ]
     },
     "execution_count": 1,
     "metadata": {},
     "output_type": "execute_result"
    }
   ],
   "source": [
    "import matplotlib.pyplot as plt\n",
    "import numpy as np\n",
    "import pandas as pd\n",
    "import xarray as xr\n",
    "\n",
    "samples = np.random.randn(2, 3)    \n",
    "    \n",
    "data = xr.DataArray(samples, name='NDVI',\n",
    "                        dims=('x', 'y'),\n",
    "                        coords={'x': [10, 20]})\n",
    "\n",
    "data\n"
   ]
  },
  {
   "cell_type": "code",
   "execution_count": 6,
   "metadata": {},
   "outputs": [],
   "source": [
    "\n",
    "# checando coordenadas (mesmo que sem dimensões)\n",
    "\n",
    "data.coords['y']\n",
    "\n",
    "a = xr.DataArray(np.random.randn(3), coords=[data.coords['y']])"
   ]
  },
  {
   "cell_type": "code",
   "execution_count": 7,
   "metadata": {},
   "outputs": [],
   "source": [
    "# broadcasting operações aritméticas baseadas em nomes de dimensões:\n",
    "\n",
    "b = xr.DataArray(np.random.randn(4), dims='z')"
   ]
  },
  {
   "cell_type": "code",
   "execution_count": 8,
   "metadata": {},
   "outputs": [
    {
     "data": {
      "text/plain": [
       "<xarray.DataArray (y: 3, z: 4)>\n",
       "array([[ 2.603665,  2.675038,  1.614126, -0.721742],\n",
       "       [ 2.06547 ,  2.136843,  1.075932, -1.259937],\n",
       "       [ 0.388176,  0.459549, -0.601362, -2.937231]])\n",
       "Coordinates:\n",
       "  * y        (y) int64 0 1 2\n",
       "Dimensions without coordinates: z"
      ]
     },
     "execution_count": 8,
     "metadata": {},
     "output_type": "execute_result"
    }
   ],
   "source": [
    "a+ b"
   ]
  },
  {
   "cell_type": "code",
   "execution_count": 9,
   "metadata": {},
   "outputs": [
    {
     "data": {
      "text/plain": [
       "<xarray.DataArray 'NDVI' (x: 2, y: 3)>\n",
       "array([[0., 0., 0.],\n",
       "       [0., 0., 0.]])\n",
       "Coordinates:\n",
       "  * x        (x) int32 10 20\n",
       "Dimensions without coordinates: y"
      ]
     },
     "execution_count": 9,
     "metadata": {},
     "output_type": "execute_result"
    }
   ],
   "source": [
    "# PORTANTO, NÃO PRECISAMOS NOS PREOCUPAR COM A ORDEM DAS OPERAÇÕES:\n",
    "\n",
    "data - data.T"
   ]
  },
  {
   "cell_type": "code",
   "execution_count": null,
   "metadata": {},
   "outputs": [],
   "source": []
  }
 ],
 "metadata": {
  "kernelspec": {
   "display_name": "Python 3",
   "language": "python",
   "name": "python3"
  },
  "language_info": {
   "codemirror_mode": {
    "name": "ipython",
    "version": 3
   },
   "file_extension": ".py",
   "mimetype": "text/x-python",
   "name": "python",
   "nbconvert_exporter": "python",
   "pygments_lexer": "ipython3",
   "version": "3.6.4"
  }
 },
 "nbformat": 4,
 "nbformat_minor": 2
}
