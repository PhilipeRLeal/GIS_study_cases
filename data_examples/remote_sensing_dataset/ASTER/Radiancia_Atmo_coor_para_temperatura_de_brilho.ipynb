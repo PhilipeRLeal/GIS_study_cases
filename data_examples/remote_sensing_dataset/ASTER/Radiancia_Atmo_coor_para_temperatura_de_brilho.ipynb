{
 "cells": [
  {
   "cell_type": "code",
   "execution_count": 1,
   "metadata": {},
   "outputs": [],
   "source": [
    "import pandas as pd\n",
    "import matplotlib.pyplot as plt\n",
    "import numpy as np"
   ]
  },
  {
   "cell_type": "code",
   "execution_count": 3,
   "metadata": {},
   "outputs": [
    {
     "name": "stdout",
     "output_type": "stream",
     "text": [
      "C:\\Users\\Philipe Leal\\Dropbox\\Profissao\\Python\\Termal\\ASTER_THERMAL_BANDS.xlsx\n"
     ]
    }
   ],
   "source": [
    "import os\n",
    "\n",
    "path = r'C:\\Users\\Philipe Leal\\Dropbox\\Profissao\\Python\\Termal'\n",
    "\n",
    "for file in os.listdir(path):\n",
    "    if file.endswith(\".xlsx\"):\n",
    "        \n",
    "        path  = os.path.join(path, file)\n",
    "        print(path)"
   ]
  },
  {
   "cell_type": "code",
   "execution_count": 15,
   "metadata": {},
   "outputs": [
    {
     "data": {
      "text/html": [
       "<div>\n",
       "<style scoped>\n",
       "    .dataframe tbody tr th:only-of-type {\n",
       "        vertical-align: middle;\n",
       "    }\n",
       "\n",
       "    .dataframe tbody tr th {\n",
       "        vertical-align: top;\n",
       "    }\n",
       "\n",
       "    .dataframe thead th {\n",
       "        text-align: right;\n",
       "    }\n",
       "</style>\n",
       "<table border=\"1\" class=\"dataframe\">\n",
       "  <thead>\n",
       "    <tr style=\"text-align: right;\">\n",
       "      <th></th>\n",
       "      <th>Bands_ASTER</th>\n",
       "      <th>Bandpass(µm)</th>\n",
       "      <th>Effective_Wavelength(µm)</th>\n",
       "      <th>UCC</th>\n",
       "      <th>K1(Wm-2µm-1)</th>\n",
       "      <th>K2(K)</th>\n",
       "    </tr>\n",
       "  </thead>\n",
       "  <tbody>\n",
       "    <tr>\n",
       "      <th>0</th>\n",
       "      <td>10</td>\n",
       "      <td>8,125-8,475</td>\n",
       "      <td>8291</td>\n",
       "      <td>0.006882</td>\n",
       "      <td>3040.136402</td>\n",
       "      <td>1735.337945</td>\n",
       "    </tr>\n",
       "    <tr>\n",
       "      <th>1</th>\n",
       "      <td>11</td>\n",
       "      <td>8,475-8,825</td>\n",
       "      <td>8634</td>\n",
       "      <td>0.006780</td>\n",
       "      <td>2482.375199</td>\n",
       "      <td>1666.398761</td>\n",
       "    </tr>\n",
       "    <tr>\n",
       "      <th>2</th>\n",
       "      <td>12</td>\n",
       "      <td>8,925-9,275</td>\n",
       "      <td>9075</td>\n",
       "      <td>0.006590</td>\n",
       "      <td>1935.060183</td>\n",
       "      <td>1585.420044</td>\n",
       "    </tr>\n",
       "    <tr>\n",
       "      <th>3</th>\n",
       "      <td>13</td>\n",
       "      <td>10,25-10,95</td>\n",
       "      <td>10657</td>\n",
       "      <td>0.005693</td>\n",
       "      <td>866.468575</td>\n",
       "      <td>1350.069147</td>\n",
       "    </tr>\n",
       "    <tr>\n",
       "      <th>4</th>\n",
       "      <td>14</td>\n",
       "      <td>10,95-11,65</td>\n",
       "      <td>11318</td>\n",
       "      <td>0.005225</td>\n",
       "      <td>641.326517</td>\n",
       "      <td>1271.221673</td>\n",
       "    </tr>\n",
       "  </tbody>\n",
       "</table>\n",
       "</div>"
      ],
      "text/plain": [
       "   Bands_ASTER Bandpass(µm)  Effective_Wavelength(µm)       UCC  K1(Wm-2µm-1)  \\\n",
       "0           10  8,125-8,475                      8291  0.006882   3040.136402   \n",
       "1           11  8,475-8,825                      8634  0.006780   2482.375199   \n",
       "2           12  8,925-9,275                      9075  0.006590   1935.060183   \n",
       "3           13  10,25-10,95                     10657  0.005693    866.468575   \n",
       "4           14  10,95-11,65                     11318  0.005225    641.326517   \n",
       "\n",
       "         K2(K)  \n",
       "0  1735.337945  \n",
       "1  1666.398761  \n",
       "2  1585.420044  \n",
       "3  1350.069147  \n",
       "4  1271.221673  "
      ]
     },
     "execution_count": 15,
     "metadata": {},
     "output_type": "execute_result"
    }
   ],
   "source": [
    "\n",
    "Sat_DS = pd.read_excel(path)\n",
    "\n",
    "Sat_DS.head()\n"
   ]
  },
  {
   "cell_type": "code",
   "execution_count": 29,
   "metadata": {},
   "outputs": [
    {
     "name": "stdout",
     "output_type": "stream",
     "text": [
      "K1:  0    1735.337945\n",
      "Name: K2(K), dtype: float64 K2:  0    3040.136402\n",
      "Name: K1(Wm-2µm-1), dtype: float64\n"
     ]
    }
   ],
   "source": [
    "\n",
    "print(\"K1: \", Sat_DS[Sat_DS[\"Bands_ASTER\"] == 10][\"K2(K)\"],\n",
    "      \"K2: \", Sat_DS[Sat_DS[\"Bands_ASTER\"] == 10][\"K1(Wm-2µm-1)\"]\n",
    "     )"
   ]
  },
  {
   "cell_type": "code",
   "execution_count": 30,
   "metadata": {},
   "outputs": [],
   "source": [
    "import math\n",
    "def Temperatura_SAT (Lx):\n",
    "    \n",
    "    K1 = Sat_DS[Sat_DS[\"Bands_ASTER\"] == 10][\"K1(Wm-2µm-1)\"]\n",
    "    K2 = Sat_DS[Sat_DS[\"Bands_ASTER\"] == 10][\"K2(K)\"]\n",
    "    \n",
    "    Temperatura = K2 / math.log( (K1/Lx + 1) , math.e)\n",
    "    \n",
    "    return Temperatura\n",
    "    "
   ]
  },
  {
   "cell_type": "code",
   "execution_count": 37,
   "metadata": {},
   "outputs": [
    {
     "data": {
      "text/plain": [
       "0.4054651081081644"
      ]
     },
     "execution_count": 37,
     "metadata": {},
     "output_type": "execute_result"
    }
   ],
   "source": []
  },
  {
   "cell_type": "code",
   "execution_count": null,
   "metadata": {},
   "outputs": [],
   "source": []
  }
 ],
 "metadata": {
  "kernelspec": {
   "display_name": "Python 3",
   "language": "python",
   "name": "python3"
  },
  "language_info": {
   "codemirror_mode": {
    "name": "ipython",
    "version": 3
   },
   "file_extension": ".py",
   "mimetype": "text/x-python",
   "name": "python",
   "nbconvert_exporter": "python",
   "pygments_lexer": "ipython3",
   "version": "3.6.4"
  }
 },
 "nbformat": 4,
 "nbformat_minor": 2
}
