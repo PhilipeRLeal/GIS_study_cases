{
 "cells": [
  {
   "cell_type": "code",
   "execution_count": 1,
   "metadata": {},
   "outputs": [],
   "source": [
    "import numpy as np\n",
    "from osgeo import gdal\n",
    "import matplotlib.pyplot as plt\n",
    "import cartopy.crs as ccrs"
   ]
  },
  {
   "cell_type": "code",
   "execution_count": 2,
   "metadata": {},
   "outputs": [
    {
     "data": {
      "text/plain": [
       "{'AREA_OR_POINT': 'Area'}"
      ]
     },
     "execution_count": 2,
     "metadata": {},
     "output_type": "execute_result"
    }
   ],
   "source": [
    "tiff_path = r'C:\\Doutorado\\3_Trimestre\\Analise_Espacial\\Enner_Milton\\OLI_8\\Mesclar.tif'\n",
    "\n",
    "ds = gdal.Open(tiff_path)\n",
    "\n",
    "ds.GetMetadata()"
   ]
  },
  {
   "cell_type": "code",
   "execution_count": 3,
   "metadata": {},
   "outputs": [
    {
     "data": {
      "text/plain": [
       "(563085.0, 30.0, 0.0, -2280285.0, 0.0, -30.0)"
      ]
     },
     "execution_count": 3,
     "metadata": {},
     "output_type": "execute_result"
    }
   ],
   "source": [
    "ds.GetGeoTransform()"
   ]
  },
  {
   "cell_type": "code",
   "execution_count": 4,
   "metadata": {},
   "outputs": [
    {
     "data": {
      "text/plain": [
       "'PROJCS[\"WGS 84 / UTM zone 22N\",GEOGCS[\"WGS 84\",DATUM[\"WGS_1984\",SPHEROID[\"WGS 84\",6378137,298.257223563,AUTHORITY[\"EPSG\",\"7030\"]],AUTHORITY[\"EPSG\",\"6326\"]],PRIMEM[\"Greenwich\",0,AUTHORITY[\"EPSG\",\"8901\"]],UNIT[\"degree\",0.0174532925199433,AUTHORITY[\"EPSG\",\"9122\"]],AUTHORITY[\"EPSG\",\"4326\"]],PROJECTION[\"Transverse_Mercator\"],PARAMETER[\"latitude_of_origin\",0],PARAMETER[\"central_meridian\",-51],PARAMETER[\"scale_factor\",0.9996],PARAMETER[\"false_easting\",500000],PARAMETER[\"false_northing\",0],UNIT[\"metre\",1,AUTHORITY[\"EPSG\",\"9001\"]],AXIS[\"Easting\",EAST],AXIS[\"Northing\",NORTH],AUTHORITY[\"EPSG\",\"32622\"]]'"
      ]
     },
     "execution_count": 4,
     "metadata": {},
     "output_type": "execute_result"
    }
   ],
   "source": [
    "ds.GetProjection()"
   ]
  },
  {
   "cell_type": "code",
   "execution_count": 5,
   "metadata": {},
   "outputs": [
    {
     "name": "stdout",
     "output_type": "stream",
     "text": [
      "563085.0 30.0 -2280285.0 -30.0\n"
     ]
    }
   ],
   "source": [
    "def get_GeoTransform_params(ds):\n",
    "    \n",
    "    originX, pixelWidth,  a, originY, b, pixelHeight = ds.GetGeoTransform()\n",
    "    \n",
    "    \n",
    "    return originX, pixelWidth, originY, pixelHeight\n",
    "\n",
    "originX, pixelWidth, originY,  pixelHeight = get_GeoTransform_params(ds)\n",
    "\n",
    "print(originX, pixelWidth,  originY, pixelHeight)"
   ]
  },
  {
   "cell_type": "code",
   "execution_count": 87,
   "metadata": {},
   "outputs": [
    {
     "name": "stdout",
     "output_type": "stream",
     "text": [
      "30.0 -30.0\n",
      "XSize 7731, \t YSize 7831 \n"
     ]
    }
   ],
   "source": [
    "def get_dx_dy(ds):\n",
    "\n",
    "    dx = ds.GetGeoTransform()[1]\n",
    "\n",
    "    dy = ds.GetGeoTransform()[-1]\n",
    "    return dx, dy\n",
    "\n",
    "dx, dy = get_dx_dy(ds)\n",
    "\n",
    "print(dx, dy)\n",
    "\n",
    "def get_XSize_YSize(ds, band):\n",
    "    \n",
    "    Layer = ds.GetRasterBand( int(band))\n",
    "    \n",
    "    XSize = Layer.XSize\n",
    "\n",
    "    YSize = Layer.YSize\n",
    "    \n",
    "    return XSize, YSize\n",
    "    \n",
    "\n",
    "XSize,YSize = get_XSize_YSize(ds, 1)\n",
    "\n",
    "print(\"XSize {0}, \\t YSize {1} \".format(XSize,YSize))\n",
    "\n",
    "\n",
    "def generate_coordinate_as_2D_array(ds, band=1):\n",
    "    \n",
    "    originX, pixelWidth, originY,  pixelHeight = get_GeoTransform_params(ds)\n",
    "    \n",
    "    \n",
    "    XSize,YSize = get_XSize_YSize(ds, band)\n",
    "    \n",
    "    Xcoords = [((originX) + (pixelWidth)*x) for x in range(XSize)]\n",
    "    \n",
    "    Ycoords = [((originY) + (abs(pixelHeight))*x) for x in range(YSize)]\n",
    "    \n",
    "    return Xcoords, Ycoords\n",
    "\n",
    "    \n",
    "Coords = generate_coordinate_as_2D_array(ds, 1)\n",
    "\n",
    "\n",
    "def get_distance(x, y):\n",
    "    \n",
    "    if x == None:\n",
    "        x = 0\n",
    "        \n",
    "    vetor_result = x - y\n",
    "    \n",
    "    return np.linalg.norm( vetor_result)\n",
    "\n",
    "def get_min(old,new):\n",
    "    \n",
    "    old_distance = get_distance(old, my_location)\n",
    "     \n",
    "    new_distance= get_distance(new, my_location)\n",
    "    \n",
    "    if old_distance  < new_distance:\n",
    "        return old\n",
    "    else:\n",
    "        new\n",
    "   "
   ]
  },
  {
   "cell_type": "code",
   "execution_count": 111,
   "metadata": {},
   "outputs": [],
   "source": [
    "my_location = np.array([562500, -2275850])"
   ]
  },
  {
   "cell_type": "code",
   "execution_count": 110,
   "metadata": {},
   "outputs": [
    {
     "data": {
      "text/html": [
       "<div>\n",
       "<style scoped>\n",
       "    .dataframe tbody tr th:only-of-type {\n",
       "        vertical-align: middle;\n",
       "    }\n",
       "\n",
       "    .dataframe tbody tr th {\n",
       "        vertical-align: top;\n",
       "    }\n",
       "\n",
       "    .dataframe thead th {\n",
       "        text-align: right;\n",
       "    }\n",
       "</style>\n",
       "<table border=\"1\" class=\"dataframe\">\n",
       "  <thead>\n",
       "    <tr style=\"text-align: right;\">\n",
       "      <th></th>\n",
       "      <th>y</th>\n",
       "      <th>distance</th>\n",
       "    </tr>\n",
       "  </thead>\n",
       "  <tbody>\n",
       "    <tr>\n",
       "      <th>148</th>\n",
       "      <td>-2275845.0</td>\n",
       "      <td>5.0</td>\n",
       "    </tr>\n",
       "    <tr>\n",
       "      <th>147</th>\n",
       "      <td>-2275875.0</td>\n",
       "      <td>25.0</td>\n",
       "    </tr>\n",
       "    <tr>\n",
       "      <th>149</th>\n",
       "      <td>-2275815.0</td>\n",
       "      <td>35.0</td>\n",
       "    </tr>\n",
       "    <tr>\n",
       "      <th>146</th>\n",
       "      <td>-2275905.0</td>\n",
       "      <td>55.0</td>\n",
       "    </tr>\n",
       "  </tbody>\n",
       "</table>\n",
       "</div>"
      ],
      "text/plain": [
       "             y  distance\n",
       "148 -2275845.0       5.0\n",
       "147 -2275875.0      25.0\n",
       "149 -2275815.0      35.0\n",
       "146 -2275905.0      55.0"
      ]
     },
     "execution_count": 110,
     "metadata": {},
     "output_type": "execute_result"
    }
   ],
   "source": [
    "import pandas as pd\n",
    "\n",
    "df = pd.DataFrame({'y':Coords[1]}, index=range(len(Coords[1])))\n",
    "\n",
    "df['distance'] = np.abs(df['y'] - my_location[1])\n",
    "\n",
    "df.sort_values('distance').head(4)"
   ]
  },
  {
   "cell_type": "code",
   "execution_count": 112,
   "metadata": {},
   "outputs": [],
   "source": [
    "def get_idx_idy(coords=Coords, location_point=my_location):\n",
    "    \"\"\"Returns the respective nearest x index (idx) and the nearest y index (idy) \n",
    "        relative to the location_point_given\n",
    "        \n",
    "        params: \n",
    "            coords: the tuple containing the [x,y] coordinates of the image.\n",
    "            \n",
    "            location_point: a (x,y) tuple representing the coordinate of the respective Point\n",
    "            \n",
    "            returns: (idx, idy)  ::. the nearest index for x and the nearest index position for y relative to the array image.\n",
    "        \"\"\"\n",
    "    idx = np.argmin(np.abs(coords[0] - location_point[0]))\n",
    "    \n",
    "    idy = np.argmin(np.abs(coords[1] - location_point[1]))\n",
    "    \n",
    "    return idx, idy\n",
    "\n",
    "positioning_index = get_idx_idy()"
   ]
  },
  {
   "cell_type": "code",
   "execution_count": null,
   "metadata": {},
   "outputs": [
    {
     "name": "stdout",
     "output_type": "stream",
     "text": [
      "30.0 -30.0\n",
      "XSize 7731, \t YSize 7831 \n"
     ]
    }
   ],
   "source": [
    "def get_dx_dy(ds):\n",
    "\n",
    "    dx = ds.GetGeoTransform()[1]\n",
    "\n",
    "    dy = ds.GetGeoTransform()[-1]\n",
    "    return dx, dy\n",
    "\n",
    "dx, dy = get_dx_dy(ds)\n",
    "\n",
    "print(dx, dy)\n",
    "\n",
    "def get_XSize_YSize(ds, band):\n",
    "    \n",
    "    Layer = ds.GetRasterBand( int(band))\n",
    "    \n",
    "    XSize = Layer.XSize\n",
    "\n",
    "    YSize = Layer.YSize\n",
    "    \n",
    "    return XSize, YSize\n",
    "    \n",
    "\n",
    "XSize,YSize = get_XSize_YSize(ds, 1)\n",
    "\n",
    "print(\"XSize {0}, \\t YSize {1} \".format(XSize,YSize))\n",
    "\n",
    "\n",
    "def generate_coordinate_as_2D_array(ds, band=1):\n",
    "    \n",
    "    originX, pixelWidth, originY,  pixelHeight = get_GeoTransform_params(ds)\n",
    "    \n",
    "    \n",
    "    XSize,YSize = get_XSize_YSize(ds, band)\n",
    "    \n",
    "    Xcoords = [((originX) + (pixelWidth)*x) for x in range(XSize)]\n",
    "   \n",
    "    Ycoords = [((originY) + (abs(pixelHeight))*x) for x in range(YSize)]\n",
    "    \n",
    "    return Xcoords, Ycoords\n",
    "\n",
    "    \n",
    "Xcoords, Ycoords = generate_coordinate_as_2D_array(ds, 1)\n",
    "\n",
    "\n",
    "\n",
    "Transverse_Mercator = ccrs.epsg(32622)\n",
    "\n",
    "fig, ax = plt.subplots(subplot_kw={'projection':Transverse_Mercator})\n",
    "Layer = ds.GetRasterBand(1)\n",
    "\n",
    "Array = Layer.ReadAsArray()\n",
    "\n",
    "ax.pcolormesh(Xcoords, Ycoords, Array, transform=Transverse_Mercator)\n",
    "\n",
    "fig.show()"
   ]
  },
  {
   "cell_type": "code",
   "execution_count": 40,
   "metadata": {},
   "outputs": [
    {
     "name": "stdout",
     "output_type": "stream",
     "text": [
      "7731 7831\n"
     ]
    }
   ],
   "source": [
    "Xsize = Layer.XSize\n",
    "\n",
    "Ysize = Layer.YSize\n",
    "\n",
    "print(Xsize, Ysize)"
   ]
  },
  {
   "cell_type": "code",
   "execution_count": null,
   "metadata": {},
   "outputs": [],
   "source": [
    "Layer."
   ]
  }
 ],
 "metadata": {
  "kernelspec": {
   "display_name": "Python 3",
   "language": "python",
   "name": "python3"
  },
  "language_info": {
   "codemirror_mode": {
    "name": "ipython",
    "version": 3
   },
   "file_extension": ".py",
   "mimetype": "text/x-python",
   "name": "python",
   "nbconvert_exporter": "python",
   "pygments_lexer": "ipython3",
   "version": "3.6.4"
  }
 },
 "nbformat": 4,
 "nbformat_minor": 2
}
