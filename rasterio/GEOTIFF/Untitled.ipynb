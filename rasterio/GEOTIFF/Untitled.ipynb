{
 "cells": [
  {
   "cell_type": "code",
   "execution_count": 1,
   "metadata": {
    "collapsed": true
   },
   "outputs": [],
   "source": [
    "from osgeo import gdal, osr\n",
    "import numpy as np"
   ]
  },
  {
   "cell_type": "code",
   "execution_count": 5,
   "metadata": {
    "collapsed": false
   },
   "outputs": [
    {
     "ename": "ValueError",
     "evalue": "array larger than output file, or offset off edge",
     "output_type": "error",
     "traceback": [
      "\u001b[0;31m---------------------------------------------------------------------------\u001b[0m",
      "\u001b[0;31mValueError\u001b[0m                                Traceback (most recent call last)",
      "\u001b[0;32m<ipython-input-5-26da2b624bb4>\u001b[0m in \u001b[0;36m<module>\u001b[0;34m()\u001b[0m\n\u001b[1;32m     35\u001b[0m \u001b[1;31m#atribuindo valores ao Gtiff:\u001b[0m\u001b[1;33m\u001b[0m\u001b[1;33m\u001b[0m\u001b[0m\n\u001b[1;32m     36\u001b[0m \u001b[1;33m\u001b[0m\u001b[0m\n\u001b[0;32m---> 37\u001b[0;31m \u001b[0mFile_output_Max\u001b[0m\u001b[1;33m.\u001b[0m\u001b[0mGetRasterBand\u001b[0m\u001b[1;33m(\u001b[0m\u001b[1;36m1\u001b[0m\u001b[1;33m)\u001b[0m\u001b[1;33m.\u001b[0m\u001b[0mWriteArray\u001b[0m\u001b[1;33m(\u001b[0m\u001b[0mMax_anual_por_pixel\u001b[0m\u001b[1;33m)\u001b[0m\u001b[1;33m\u001b[0m\u001b[0m\n\u001b[0m\u001b[1;32m     38\u001b[0m \u001b[0mFile_output_Max\u001b[0m \u001b[1;33m=\u001b[0m \u001b[1;32mNone\u001b[0m\u001b[1;33m\u001b[0m\u001b[0m\n",
      "\u001b[0;32mC:\\Anaconda3\\lib\\site-packages\\osgeo\\gdal.py\u001b[0m in \u001b[0;36mWriteArray\u001b[0;34m(self, array, xoff, yoff, resample_alg, callback, callback_data)\u001b[0m\n\u001b[1;32m   2552\u001b[0m                                            \u001b[0mresample_alg\u001b[0m \u001b[1;33m=\u001b[0m \u001b[0mresample_alg\u001b[0m\u001b[1;33m,\u001b[0m\u001b[1;33m\u001b[0m\u001b[0m\n\u001b[1;32m   2553\u001b[0m                                            \u001b[0mcallback\u001b[0m \u001b[1;33m=\u001b[0m \u001b[0mcallback\u001b[0m\u001b[1;33m,\u001b[0m\u001b[1;33m\u001b[0m\u001b[0m\n\u001b[0;32m-> 2554\u001b[0;31m                                            callback_data = callback_data )\n\u001b[0m\u001b[1;32m   2555\u001b[0m \u001b[1;33m\u001b[0m\u001b[0m\n\u001b[1;32m   2556\u001b[0m     def GetVirtualMemArray(self, eAccess = gdalconst.GF_Read, xoff=0, yoff=0,\n",
      "\u001b[0;32mC:\\Anaconda3\\lib\\site-packages\\osgeo\\gdal_array.py\u001b[0m in \u001b[0;36mBandWriteArray\u001b[0;34m(band, array, xoff, yoff, resample_alg, callback, callback_data)\u001b[0m\n\u001b[1;32m    377\u001b[0m \u001b[1;33m\u001b[0m\u001b[0m\n\u001b[1;32m    378\u001b[0m     \u001b[1;32mif\u001b[0m \u001b[0mxsize\u001b[0m \u001b[1;33m+\u001b[0m \u001b[0mxoff\u001b[0m \u001b[1;33m>\u001b[0m \u001b[0mband\u001b[0m\u001b[1;33m.\u001b[0m\u001b[0mXSize\u001b[0m \u001b[1;32mor\u001b[0m \u001b[0mysize\u001b[0m \u001b[1;33m+\u001b[0m \u001b[0myoff\u001b[0m \u001b[1;33m>\u001b[0m \u001b[0mband\u001b[0m\u001b[1;33m.\u001b[0m\u001b[0mYSize\u001b[0m\u001b[1;33m:\u001b[0m\u001b[1;33m\u001b[0m\u001b[0m\n\u001b[0;32m--> 379\u001b[0;31m         \u001b[1;32mraise\u001b[0m \u001b[0mValueError\u001b[0m\u001b[1;33m(\u001b[0m\u001b[1;34m\"array larger than output file, or offset off edge\"\u001b[0m\u001b[1;33m)\u001b[0m\u001b[1;33m\u001b[0m\u001b[0m\n\u001b[0m\u001b[1;32m    380\u001b[0m \u001b[1;33m\u001b[0m\u001b[0m\n\u001b[1;32m    381\u001b[0m     \u001b[0mdatatype\u001b[0m \u001b[1;33m=\u001b[0m \u001b[0mNumericTypeCodeToGDALTypeCode\u001b[0m\u001b[1;33m(\u001b[0m \u001b[0marray\u001b[0m\u001b[1;33m.\u001b[0m\u001b[0mdtype\u001b[0m\u001b[1;33m.\u001b[0m\u001b[0mtype\u001b[0m \u001b[1;33m)\u001b[0m\u001b[1;33m\u001b[0m\u001b[0m\n",
      "\u001b[0;31mValueError\u001b[0m: array larger than output file, or offset off edge"
     ]
    }
   ],
   "source": [
    "# Definindo parametros da projecao e da geotransformacao a serem utilizados na construcao dos arquivos matriciais:\n",
    "\n",
    "xsize = 5000\n",
    "ysize =6300\n",
    "\n",
    "Max_anual_por_pixel = np.random.randint(low = 41, high = 200, size= (xsize, ysize))\n",
    "\n",
    "geotransform = (-83.005, 0.01, 0.0, 13.005, 0.0, -0.01)\n",
    "projecao = osr.SRS_WKT_WGS84\n",
    "\n",
    "# definicao dos parametros do arquivo de saida em GTIFF\n",
    "#notar que o tamanho do arquivo de saida do GTIFF é maior que o somatorios dos aquivos de ENVI somados entre si. Portanto, o metadados do gtiff é mais descritivo do que o do envi.\n",
    "\n",
    "driver = gdal.GetDriverByName (\"GTiff\") # nome do formato dos arquivos de saida\n",
    "\n",
    "nbandas = 1\n",
    "\n",
    "# nomes_arquivo_saida = \"C:/Users/Philipe Leal/Python/exercicios/focos/\"  OU USAR COMANDO ABAIXO:\n",
    "nome_arquivo_saida_max = r\"C:\\Users\\Philipe Leal\\Python\\Logica_programacao\\Geotiff_criacao_teste\\Teste_random.tif\"\n",
    "\n",
    "# definicoes dos arquivos de saida\n",
    "File_output_Max = driver.Create(nome_arquivo_saida_max, xsize, ysize, nbandas, gdal.GDT_Float32)\n",
    "\n",
    "#definindo set de projecoes e transformacoes nos arquivos de saida\n",
    "\n",
    "File_output_Max.SetGeoTransform(geotransform)\n",
    "File_output_Max.SetProjection(projecao)\n",
    "\n",
    "\n",
    "#Definindo valores de max min e mean anuais para cada pixel da matriz:\n",
    "\n",
    "\n",
    "\n",
    "\n",
    "#atribuindo valores ao Gtiff:\n",
    "    \n",
    "File_output_Max.GetRasterBand(1).WriteArray(Max_anual_por_pixel)\n",
    "File_output_Max = None"
   ]
  }
 ],
 "metadata": {
  "kernelspec": {
   "display_name": "Python 3",
   "language": "python",
   "name": "python3"
  },
  "language_info": {
   "codemirror_mode": {
    "name": "ipython",
    "version": 3
   },
   "file_extension": ".py",
   "mimetype": "text/x-python",
   "name": "python",
   "nbconvert_exporter": "python",
   "pygments_lexer": "ipython3",
   "version": "3.6.0"
  }
 },
 "nbformat": 4,
 "nbformat_minor": 2
}
