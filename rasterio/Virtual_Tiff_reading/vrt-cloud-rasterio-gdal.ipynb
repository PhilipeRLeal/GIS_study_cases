{
 "cells": [
  {
   "cell_type": "markdown",
   "metadata": {},
   "source": [
    "# VRTs and Cloud storage with GDAL and Rasterio\n",
    "\n",
    "Advanced usage describes using WarpedVRT for operations, but in the end Geotiff arrays are loaded into memory or written to local disk:\n",
    "https://gist.github.com/sgillies/7e5cd548110a5b4d45ac1a1d93cb17a3\n",
    "\n",
    "What if we just want to save VRTs? There are different documented approaches, for specific casesm some of which no longer seem to work:\n",
    "https://github.com/mapbox/rasterio/pull/1041#issuecomment-308625948 \n",
    "https://github.com/mapbox/rasterio/pull/1029 \n",
    "http://rasterio.readthedocs.io/en/latest/topics/virtual-warping.html\n",
    "\n",
    "VRT format is a really common output format for GDAL command line tools, so it would be great to easily write VRTs from rasterio. In particular, the format is very convenient for referencing public imagery on the Cloud such as Landsat8:\n",
    "\n",
    "    - could be useful to keep a lightweight record of files for a particular analysis in any coordinate system.\n",
    "    - easily run command line tools to retrieve subsets or overviews of data locally (if you want it)\n",
    "    - use tools like gdallocationinfo for simple analysis without downloading data\n",
    "    - an example notebook: \n",
    "\n",
    "https://github.com/scottyhq/landsat-aws-demo/blob/master/2_Landsat-8-AWS-xarray.ipynb"
   ]
  },
  {
   "cell_type": "code",
   "execution_count": 1,
   "metadata": {},
   "outputs": [],
   "source": [
    "import os\n",
    "import matplotlib.pyplot as plt\n",
    "%matplotlib inline"
   ]
  },
  {
   "cell_type": "code",
   "execution_count": 2,
   "metadata": {},
   "outputs": [
    {
     "name": "stdout",
     "output_type": "stream",
     "text": [
      "1.0a12\n"
     ]
    }
   ],
   "source": [
    "import rasterio \n",
    "print(rasterio.__version__) # Must be >1\n",
    "from rasterio.vrt import WarpedVRT\n",
    "from rasterio.enums import Resampling"
   ]
  },
  {
   "cell_type": "code",
   "execution_count": 3,
   "metadata": {},
   "outputs": [
    {
     "name": "stdout",
     "output_type": "stream",
     "text": [
      "GDAL 2.2.2, released 2017/09/15\r\n"
     ]
    }
   ],
   "source": [
    "import gdal\n",
    "gdal.VersionInfo()\n",
    "!gdalinfo --version"
   ]
  },
  {
   "cell_type": "code",
   "execution_count": 4,
   "metadata": {},
   "outputs": [
    {
     "name": "stdout",
     "output_type": "stream",
     "text": [
      "/vsicurl/landsat-pds.s3.amazonaws.com/c1/L8/047/027/LC08_L1TP_047027_20180419_20180420_01_RT/LC08_L1TP_047027_20180419_20180420_01_RT_B1.TIF\n"
     ]
    }
   ],
   "source": [
    "# GDAL command line tool can now access public datasets on the cloud\n",
    "# here is an example with Landsat8\n",
    "\n",
    "id='LC08_L1TP_047027_20180419_20180420_01_RT'\n",
    "band=1\n",
    "url=f'/vsicurl/landsat-pds.s3.amazonaws.com/c1/L8/047/027/{id}/{id}_B{band}.TIF'\n",
    "print(url)"
   ]
  },
  {
   "cell_type": "code",
   "execution_count": 5,
   "metadata": {},
   "outputs": [
    {
     "name": "stdout",
     "output_type": "stream",
     "text": [
      "Driver: GTiff/GeoTIFF\n",
      "Files: /vsicurl/landsat-pds.s3.amazonaws.com/c1/L8/047/027/LC08_L1TP_047027_20180419_20180420_01_RT/LC08_L1TP_047027_20180419_20180420_01_RT_B1.TIF\n",
      "       /vsicurl/landsat-pds.s3.amazonaws.com/c1/L8/047/027/LC08_L1TP_047027_20180419_20180420_01_RT/LC08_L1TP_047027_20180419_20180420_01_RT_B1.TIF.ovr\n",
      "       /vsicurl/landsat-pds.s3.amazonaws.com/c1/L8/047/027/LC08_L1TP_047027_20180419_20180420_01_RT/LC08_L1TP_047027_20180419_20180420_01_RT_MTL.txt\n",
      "       /vsicurl/landsat-pds.s3.amazonaws.com/c1/L8/047/027/LC08_L1TP_047027_20180419_20180420_01_RT/LC08_L1TP_047027_20180419_20180420_01_RT_MTL.txt\n",
      "Size is 7861, 7971\n",
      "Coordinate System is:\n",
      "PROJCS[\"WGS 84 / UTM zone 10N\",\n",
      "    GEOGCS[\"WGS 84\",\n",
      "        DATUM[\"WGS_1984\",\n",
      "            SPHEROID[\"WGS 84\",6378137,298.257223563,\n",
      "                AUTHORITY[\"EPSG\",\"7030\"]],\n",
      "            AUTHORITY[\"EPSG\",\"6326\"]],\n",
      "        PRIMEM[\"Greenwich\",0,\n",
      "            AUTHORITY[\"EPSG\",\"8901\"]],\n",
      "        UNIT[\"degree\",0.0174532925199433,\n",
      "            AUTHORITY[\"EPSG\",\"9122\"]],\n",
      "        AUTHORITY[\"EPSG\",\"4326\"]],\n",
      "    PROJECTION[\"Transverse_Mercator\"],\n",
      "    PARAMETER[\"latitude_of_origin\",0],\n",
      "    PARAMETER[\"central_meridian\",-123],\n",
      "    PARAMETER[\"scale_factor\",0.9996],\n",
      "    PARAMETER[\"false_easting\",500000],\n",
      "    PARAMETER[\"false_northing\",0],\n",
      "    UNIT[\"metre\",1,\n",
      "        AUTHORITY[\"EPSG\",\"9001\"]],\n",
      "    AXIS[\"Easting\",EAST],\n",
      "    AXIS[\"Northing\",NORTH],\n",
      "    AUTHORITY[\"EPSG\",\"32610\"]]\n",
      "Origin = (352185.000000000000000,5374215.000000000000000)\n",
      "Pixel Size = (30.000000000000000,-30.000000000000000)\n",
      "Metadata:\n",
      "  AREA_OR_POINT=Point\n",
      "  METADATATYPE=ODL\n",
      "Image Structure Metadata:\n",
      "  COMPRESSION=DEFLATE\n",
      "  INTERLEAVE=BAND\n",
      "Corner Coordinates:\n",
      "Upper Left  (  352185.000, 5374215.000) (125d 0' 4.17\"W, 48d30'13.14\"N)\n",
      "Lower Left  (  352185.000, 5135085.000) (124d55'16.45\"W, 46d21'11.51\"N)\n",
      "Upper Right (  588015.000, 5374215.000) (121d48'29.47\"W, 48d30'53.56\"N)\n",
      "Lower Right (  588015.000, 5135085.000) (121d51'20.91\"W, 46d21'49.01\"N)\n",
      "Center      (  470100.000, 5254650.000) (123d23'47.73\"W, 47d26'40.59\"N)\n",
      "Band 1 Block=512x512 Type=UInt16, ColorInterp=Gray\n",
      "  Overviews: 2621x2657, 874x886, 292x296, 98x99\n",
      "CPU times: user 40.3 ms, sys: 85.2 ms, total: 126 ms\n",
      "Wall time: 2.13 s\n"
     ]
    }
   ],
   "source": [
    "%%time\n",
    "!gdalinfo {url}"
   ]
  },
  {
   "cell_type": "code",
   "execution_count": 6,
   "metadata": {},
   "outputs": [
    {
     "name": "stdout",
     "output_type": "stream",
     "text": [
      "{\"blockxsize\": 512, \"blockysize\": 512, \"bounds\": [352185.0, 5135085.0, 588015.0, 5374215.0], \"colorinterp\": [\"grey\"], \"compress\": \"deflate\", \"count\": 1, \"crs\": \"EPSG:32610\", \"descriptions\": [null], \"driver\": \"GTiff\", \"dtype\": \"uint16\", \"height\": 7971, \"indexes\": [1], \"interleave\": \"band\", \"lnglat\": [-123.39659086399698, 47.444608553735556], \"mask_flags\": [[\"all_valid\"]], \"nodata\": null, \"res\": [30.0, 30.0], \"shape\": [7971, 7861], \"tiled\": true, \"transform\": [30.0, 0.0, 352185.0, 0.0, -30.0, 5374215.0, 0.0, 0.0, 1.0], \"units\": [null], \"width\": 7861}\n",
      "CPU times: user 24.8 ms, sys: 57 ms, total: 81.8 ms\n",
      "Wall time: 1.55 s\n"
     ]
    }
   ],
   "source": [
    "%%time\n",
    "# Try the same with rasterio command line\n",
    "!rio info {url}"
   ]
  },
  {
   "cell_type": "code",
   "execution_count": 7,
   "metadata": {},
   "outputs": [
    {
     "name": "stdout",
     "output_type": "stream",
     "text": [
      "gdal_translate -of VRT /vsicurl/landsat-pds.s3.amazonaws.com/c1/L8/047/027/LC08_L1TP_047027_20180419_20180420_01_RT/LC08_L1TP_047027_20180419_20180420_01_RT_B1.TIF LC08_L1TP_047027_20180419_20180420_01_RT_B1_gdal.vrt\n",
      "Input file size is 7861, 7971\n"
     ]
    }
   ],
   "source": [
    "# Store a local VRT file that points to the COG\n",
    "gdalvrt = f'{id}_B{band}_gdal.vrt'\n",
    "cmd = f'gdal_translate -of VRT {url} {gdalvrt}'\n",
    "print(cmd)\n",
    "!{cmd}"
   ]
  },
  {
   "cell_type": "code",
   "execution_count": 8,
   "metadata": {},
   "outputs": [
    {
     "name": "stdout",
     "output_type": "stream",
     "text": [
      "<VRTDataset rasterXSize=\"7861\" rasterYSize=\"7971\">\r\n",
      "  <SRS>PROJCS[\"WGS 84 / UTM zone 10N\",GEOGCS[\"WGS 84\",DATUM[\"WGS_1984\",SPHEROID[\"WGS 84\",6378137,298.257223563,AUTHORITY[\"EPSG\",\"7030\"]],AUTHORITY[\"EPSG\",\"6326\"]],PRIMEM[\"Greenwich\",0,AUTHORITY[\"EPSG\",\"8901\"]],UNIT[\"degree\",0.0174532925199433,AUTHORITY[\"EPSG\",\"9122\"]],AUTHORITY[\"EPSG\",\"4326\"]],PROJECTION[\"Transverse_Mercator\"],PARAMETER[\"latitude_of_origin\",0],PARAMETER[\"central_meridian\",-123],PARAMETER[\"scale_factor\",0.9996],PARAMETER[\"false_easting\",500000],PARAMETER[\"false_northing\",0],UNIT[\"metre\",1,AUTHORITY[\"EPSG\",\"9001\"]],AXIS[\"Easting\",EAST],AXIS[\"Northing\",NORTH],AUTHORITY[\"EPSG\",\"32610\"]]</SRS>\r\n",
      "  <GeoTransform>  3.5218500000000000e+05,  3.0000000000000000e+01,  0.0000000000000000e+00,  5.3742150000000000e+06,  0.0000000000000000e+00, -3.0000000000000000e+01</GeoTransform>\r\n",
      "  <Metadata>\r\n",
      "    <MDI key=\"AREA_OR_POINT\">Point</MDI>\r\n",
      "  </Metadata>\r\n",
      "  <Metadata domain=\"IMD\">\r\n",
      "    <MDI key=\"L1_METADATA_FILE.IMAGE_ATTRIBUTES.CLOUD_COVER\">41.93</MDI>\r\n",
      "    <MDI key=\"L1_METADATA_FILE.IMAGE_ATTRIBUTES.CLOUD_COVER_LAND\">41.18</MDI>\r\n",
      "    <MDI key=\"L1_METADATA_FILE.IMAGE_ATTRIBUTES.EARTH_SUN_DISTANCE\">1.0044896</MDI>\r\n",
      "    <MDI key=\"L1_METADATA_FILE.IMAGE_ATTRIBUTES.GEOMETRIC_RMSE_MODEL\">6.387</MDI>\r\n",
      "    <MDI key=\"L1_METADATA_FILE.IMAGE_ATTRIBUTES.GEOMETRIC_RMSE_MODEL_X\">4.606</MDI>\r\n",
      "    <MDI key=\"L1_METADATA_FILE.IMAGE_ATTRIBUTES.GEOMETRIC_RMSE_MODEL_Y\">4.425</MDI>\r\n",
      "    <MDI key=\"L1_METADATA_FILE.IMAGE_ATTRIBUTES.GEOMETRIC_RMSE_VERIFY\">3.946</MDI>\r\n",
      "    <MDI key=\"L1_METADATA_FILE.IMAGE_ATTRIBUTES.GROUND_CONTROL_POINTS_MODEL\">438</MDI>\r\n",
      "    <MDI key=\"L1_METADATA_FILE.IMAGE_ATTRIBUTES.GROUND_CONTROL_POINTS_VERIFY\">204</MDI>\r\n",
      "    <MDI key=\"L1_METADATA_FILE.IMAGE_ATTRIBUTES.GROUND_CONTROL_POINTS_VERSION\">4</MDI>\r\n",
      "    <MDI key=\"L1_METADATA_FILE.IMAGE_ATTRIBUTES.IMAGE_QUALITY_OLI\">9</MDI>\r\n",
      "    <MDI key=\"L1_METADATA_FILE.IMAGE_ATTRIBUTES.IMAGE_QUALITY_TIRS\">7</MDI>\r\n",
      "    <MDI key=\"L1_METADATA_FILE.IMAGE_ATTRIBUTES.ROLL_ANGLE\">-0.001</MDI>\r\n",
      "    <MDI key=\"L1_METADATA_FILE.IMAGE_ATTRIBUTES.SATURATION_BAND_1\">\"Y\"</MDI>\r\n",
      "    <MDI key=\"L1_METADATA_FILE.IMAGE_ATTRIBUTES.SATURATION_BAND_2\">\"Y\"</MDI>\r\n",
      "    <MDI key=\"L1_METADATA_FILE.IMAGE_ATTRIBUTES.SATURATION_BAND_3\">\"Y\"</MDI>\r\n",
      "    <MDI key=\"L1_METADATA_FILE.IMAGE_ATTRIBUTES.SATURATION_BAND_4\">\"Y\"</MDI>\r\n",
      "    <MDI key=\"L1_METADATA_FILE.IMAGE_ATTRIBUTES.SATURATION_BAND_5\">\"Y\"</MDI>\r\n",
      "    <MDI key=\"L1_METADATA_FILE.IMAGE_ATTRIBUTES.SATURATION_BAND_6\">\"Y\"</MDI>\r\n",
      "    <MDI key=\"L1_METADATA_FILE.IMAGE_ATTRIBUTES.SATURATION_BAND_7\">\"Y\"</MDI>\r\n",
      "    <MDI key=\"L1_METADATA_FILE.IMAGE_ATTRIBUTES.SATURATION_BAND_8\">\"N\"</MDI>\r\n",
      "    <MDI key=\"L1_METADATA_FILE.IMAGE_ATTRIBUTES.SATURATION_BAND_9\">\"N\"</MDI>\r\n",
      "    <MDI key=\"L1_METADATA_FILE.IMAGE_ATTRIBUTES.SUN_AZIMUTH\">151.48512556</MDI>\r\n",
      "    <MDI key=\"L1_METADATA_FILE.IMAGE_ATTRIBUTES.SUN_ELEVATION\">50.89237677</MDI>\r\n",
      "    <MDI key=\"L1_METADATA_FILE.IMAGE_ATTRIBUTES.TIRS_SSM_MODEL\">\"PRELIMINARY\"</MDI>\r\n",
      "    <MDI key=\"L1_METADATA_FILE.IMAGE_ATTRIBUTES.TIRS_SSM_POSITION_STATUS\">\"ESTIMATED\"</MDI>\r\n",
      "    <MDI key=\"L1_METADATA_FILE.IMAGE_ATTRIBUTES.TIRS_STRAY_LIGHT_CORRECTION_SOURCE\">\"TIRS\"</MDI>\r\n",
      "    <MDI key=\"L1_METADATA_FILE.IMAGE_ATTRIBUTES.TRUNCATION_OLI\">\"UPPER\"</MDI>\r\n",
      "    <MDI key=\"L1_METADATA_FILE.METADATA_FILE_INFO.COLLECTION_NUMBER\">01</MDI>\r\n",
      "    <MDI key=\"L1_METADATA_FILE.METADATA_FILE_INFO.FILE_DATE\">2018-04-20T02:13:56Z</MDI>\r\n",
      "    <MDI key=\"L1_METADATA_FILE.METADATA_FILE_INFO.LANDSAT_PRODUCT_ID\">\"LC08_L1TP_047027_20180419_20180420_01_RT\"</MDI>\r\n",
      "    <MDI key=\"L1_METADATA_FILE.METADATA_FILE_INFO.LANDSAT_SCENE_ID\">\"LC80470272018109LGN00\"</MDI>\r\n",
      "    <MDI key=\"L1_METADATA_FILE.METADATA_FILE_INFO.ORIGIN\">\"Image courtesy of the U.S. Geological Survey\"</MDI>\r\n",
      "    <MDI key=\"L1_METADATA_FILE.METADATA_FILE_INFO.PROCESSING_SOFTWARE_VERSION\">\"LPGS_13.0.0\"</MDI>\r\n",
      "    <MDI key=\"L1_METADATA_FILE.METADATA_FILE_INFO.REQUEST_ID\">\"0501804193031_00033\"</MDI>\r\n",
      "    <MDI key=\"L1_METADATA_FILE.METADATA_FILE_INFO.STATION_ID\">\"LGN\"</MDI>\r\n",
      "    <MDI key=\"L1_METADATA_FILE.MIN_MAX_PIXEL_VALUE.QUANTIZE_CAL_MAX_BAND_1\">65535</MDI>\r\n",
      "    <MDI key=\"L1_METADATA_FILE.MIN_MAX_PIXEL_VALUE.QUANTIZE_CAL_MAX_BAND_10\">65535</MDI>\r\n",
      "    <MDI key=\"L1_METADATA_FILE.MIN_MAX_PIXEL_VALUE.QUANTIZE_CAL_MAX_BAND_11\">65535</MDI>\r\n",
      "    <MDI key=\"L1_METADATA_FILE.MIN_MAX_PIXEL_VALUE.QUANTIZE_CAL_MAX_BAND_2\">65535</MDI>\r\n",
      "    <MDI key=\"L1_METADATA_FILE.MIN_MAX_PIXEL_VALUE.QUANTIZE_CAL_MAX_BAND_3\">65535</MDI>\r\n",
      "    <MDI key=\"L1_METADATA_FILE.MIN_MAX_PIXEL_VALUE.QUANTIZE_CAL_MAX_BAND_4\">65535</MDI>\r\n",
      "    <MDI key=\"L1_METADATA_FILE.MIN_MAX_PIXEL_VALUE.QUANTIZE_CAL_MAX_BAND_5\">65535</MDI>\r\n",
      "    <MDI key=\"L1_METADATA_FILE.MIN_MAX_PIXEL_VALUE.QUANTIZE_CAL_MAX_BAND_6\">65535</MDI>\r\n",
      "    <MDI key=\"L1_METADATA_FILE.MIN_MAX_PIXEL_VALUE.QUANTIZE_CAL_MAX_BAND_7\">65535</MDI>\r\n",
      "    <MDI key=\"L1_METADATA_FILE.MIN_MAX_PIXEL_VALUE.QUANTIZE_CAL_MAX_BAND_8\">65535</MDI>\r\n",
      "    <MDI key=\"L1_METADATA_FILE.MIN_MAX_PIXEL_VALUE.QUANTIZE_CAL_MAX_BAND_9\">65535</MDI>\r\n",
      "    <MDI key=\"L1_METADATA_FILE.MIN_MAX_PIXEL_VALUE.QUANTIZE_CAL_MIN_BAND_1\">1</MDI>\r\n",
      "    <MDI key=\"L1_METADATA_FILE.MIN_MAX_PIXEL_VALUE.QUANTIZE_CAL_MIN_BAND_10\">1</MDI>\r\n",
      "    <MDI key=\"L1_METADATA_FILE.MIN_MAX_PIXEL_VALUE.QUANTIZE_CAL_MIN_BAND_11\">1</MDI>\r\n",
      "    <MDI key=\"L1_METADATA_FILE.MIN_MAX_PIXEL_VALUE.QUANTIZE_CAL_MIN_BAND_2\">1</MDI>\r\n",
      "    <MDI key=\"L1_METADATA_FILE.MIN_MAX_PIXEL_VALUE.QUANTIZE_CAL_MIN_BAND_3\">1</MDI>\r\n",
      "    <MDI key=\"L1_METADATA_FILE.MIN_MAX_PIXEL_VALUE.QUANTIZE_CAL_MIN_BAND_4\">1</MDI>\r\n",
      "    <MDI key=\"L1_METADATA_FILE.MIN_MAX_PIXEL_VALUE.QUANTIZE_CAL_MIN_BAND_5\">1</MDI>\r\n",
      "    <MDI key=\"L1_METADATA_FILE.MIN_MAX_PIXEL_VALUE.QUANTIZE_CAL_MIN_BAND_6\">1</MDI>\r\n",
      "    <MDI key=\"L1_METADATA_FILE.MIN_MAX_PIXEL_VALUE.QUANTIZE_CAL_MIN_BAND_7\">1</MDI>\r\n",
      "    <MDI key=\"L1_METADATA_FILE.MIN_MAX_PIXEL_VALUE.QUANTIZE_CAL_MIN_BAND_8\">1</MDI>\r\n",
      "    <MDI key=\"L1_METADATA_FILE.MIN_MAX_PIXEL_VALUE.QUANTIZE_CAL_MIN_BAND_9\">1</MDI>\r\n",
      "    <MDI key=\"L1_METADATA_FILE.MIN_MAX_RADIANCE.RADIANCE_MAXIMUM_BAND_1\">753.28357</MDI>\r\n",
      "    <MDI key=\"L1_METADATA_FILE.MIN_MAX_RADIANCE.RADIANCE_MAXIMUM_BAND_10\">22.00180</MDI>\r\n",
      "    <MDI key=\"L1_METADATA_FILE.MIN_MAX_RADIANCE.RADIANCE_MAXIMUM_BAND_11\">22.00180</MDI>\r\n",
      "    <MDI key=\"L1_METADATA_FILE.MIN_MAX_RADIANCE.RADIANCE_MAXIMUM_BAND_2\">771.37158</MDI>\r\n",
      "    <MDI key=\"L1_METADATA_FILE.MIN_MAX_RADIANCE.RADIANCE_MAXIMUM_BAND_3\">710.81232</MDI>\r\n",
      "    <MDI key=\"L1_METADATA_FILE.MIN_MAX_RADIANCE.RADIANCE_MAXIMUM_BAND_4\">599.39697</MDI>\r\n",
      "    <MDI key=\"L1_METADATA_FILE.MIN_MAX_RADIANCE.RADIANCE_MAXIMUM_BAND_5\">366.80109</MDI>\r\n",
      "    <MDI key=\"L1_METADATA_FILE.MIN_MAX_RADIANCE.RADIANCE_MAXIMUM_BAND_6\">91.22009</MDI>\r\n",
      "    <MDI key=\"L1_METADATA_FILE.MIN_MAX_RADIANCE.RADIANCE_MAXIMUM_BAND_7\">30.74605</MDI>\r\n",
      "    <MDI key=\"L1_METADATA_FILE.MIN_MAX_RADIANCE.RADIANCE_MAXIMUM_BAND_8\">678.35242</MDI>\r\n",
      "    <MDI key=\"L1_METADATA_FILE.MIN_MAX_RADIANCE.RADIANCE_MAXIMUM_BAND_9\">143.35417</MDI>\r\n",
      "    <MDI key=\"L1_METADATA_FILE.MIN_MAX_RADIANCE.RADIANCE_MINIMUM_BAND_1\">-62.20641</MDI>\r\n",
      "    <MDI key=\"L1_METADATA_FILE.MIN_MAX_RADIANCE.RADIANCE_MINIMUM_BAND_10\">0.10033</MDI>\r\n",
      "    <MDI key=\"L1_METADATA_FILE.MIN_MAX_RADIANCE.RADIANCE_MINIMUM_BAND_11\">0.10033</MDI>\r\n",
      "    <MDI key=\"L1_METADATA_FILE.MIN_MAX_RADIANCE.RADIANCE_MINIMUM_BAND_2\">-63.70012</MDI>\r\n",
      "    <MDI key=\"L1_METADATA_FILE.MIN_MAX_RADIANCE.RADIANCE_MINIMUM_BAND_3\">-58.69911</MDI>\r\n",
      "    <MDI key=\"L1_METADATA_FILE.MIN_MAX_RADIANCE.RADIANCE_MINIMUM_BAND_4\">-49.49840</MDI>\r\n",
      "    <MDI key=\"L1_METADATA_FILE.MIN_MAX_RADIANCE.RADIANCE_MINIMUM_BAND_5\">-30.29055</MDI>\r\n",
      "    <MDI key=\"L1_METADATA_FILE.MIN_MAX_RADIANCE.RADIANCE_MINIMUM_BAND_6\">-7.53298</MDI>\r\n",
      "    <MDI key=\"L1_METADATA_FILE.MIN_MAX_RADIANCE.RADIANCE_MINIMUM_BAND_7\">-2.53902</MDI>\r\n",
      "    <MDI key=\"L1_METADATA_FILE.MIN_MAX_RADIANCE.RADIANCE_MINIMUM_BAND_8\">-56.01857</MDI>\r\n",
      "    <MDI key=\"L1_METADATA_FILE.MIN_MAX_RADIANCE.RADIANCE_MINIMUM_BAND_9\">-11.83823</MDI>\r\n",
      "    <MDI key=\"L1_METADATA_FILE.MIN_MAX_REFLECTANCE.REFLECTANCE_MAXIMUM_BAND_1\">1.210700</MDI>\r\n",
      "    <MDI key=\"L1_METADATA_FILE.MIN_MAX_REFLECTANCE.REFLECTANCE_MAXIMUM_BAND_2\">1.210700</MDI>\r\n",
      "    <MDI key=\"L1_METADATA_FILE.MIN_MAX_REFLECTANCE.REFLECTANCE_MAXIMUM_BAND_3\">1.210700</MDI>\r\n",
      "    <MDI key=\"L1_METADATA_FILE.MIN_MAX_REFLECTANCE.REFLECTANCE_MAXIMUM_BAND_4\">1.210700</MDI>\r\n",
      "    <MDI key=\"L1_METADATA_FILE.MIN_MAX_REFLECTANCE.REFLECTANCE_MAXIMUM_BAND_5\">1.210700</MDI>\r\n",
      "    <MDI key=\"L1_METADATA_FILE.MIN_MAX_REFLECTANCE.REFLECTANCE_MAXIMUM_BAND_6\">1.210700</MDI>\r\n",
      "    <MDI key=\"L1_METADATA_FILE.MIN_MAX_REFLECTANCE.REFLECTANCE_MAXIMUM_BAND_7\">1.210700</MDI>\r\n",
      "    <MDI key=\"L1_METADATA_FILE.MIN_MAX_REFLECTANCE.REFLECTANCE_MAXIMUM_BAND_8\">1.210700</MDI>\r\n",
      "    <MDI key=\"L1_METADATA_FILE.MIN_MAX_REFLECTANCE.REFLECTANCE_MAXIMUM_BAND_9\">1.210700</MDI>\r\n",
      "    <MDI key=\"L1_METADATA_FILE.MIN_MAX_REFLECTANCE.REFLECTANCE_MINIMUM_BAND_1\">-0.099980</MDI>\r\n",
      "    <MDI key=\"L1_METADATA_FILE.MIN_MAX_REFLECTANCE.REFLECTANCE_MINIMUM_BAND_2\">-0.099980</MDI>\r\n",
      "    <MDI key=\"L1_METADATA_FILE.MIN_MAX_REFLECTANCE.REFLECTANCE_MINIMUM_BAND_3\">-0.099980</MDI>\r\n",
      "    <MDI key=\"L1_METADATA_FILE.MIN_MAX_REFLECTANCE.REFLECTANCE_MINIMUM_BAND_4\">-0.099980</MDI>\r\n",
      "    <MDI key=\"L1_METADATA_FILE.MIN_MAX_REFLECTANCE.REFLECTANCE_MINIMUM_BAND_5\">-0.099980</MDI>\r\n",
      "    <MDI key=\"L1_METADATA_FILE.MIN_MAX_REFLECTANCE.REFLECTANCE_MINIMUM_BAND_6\">-0.099980</MDI>\r\n",
      "    <MDI key=\"L1_METADATA_FILE.MIN_MAX_REFLECTANCE.REFLECTANCE_MINIMUM_BAND_7\">-0.099980</MDI>\r\n",
      "    <MDI key=\"L1_METADATA_FILE.MIN_MAX_REFLECTANCE.REFLECTANCE_MINIMUM_BAND_8\">-0.099980</MDI>\r\n",
      "    <MDI key=\"L1_METADATA_FILE.MIN_MAX_REFLECTANCE.REFLECTANCE_MINIMUM_BAND_9\">-0.099980</MDI>\r\n",
      "    <MDI key=\"L1_METADATA_FILE.PRODUCT_METADATA.ANGLE_COEFFICIENT_FILE_NAME\">\"LC08_L1TP_047027_20180419_20180420_01_RT_ANG.txt\"</MDI>\r\n",
      "    <MDI key=\"L1_METADATA_FILE.PRODUCT_METADATA.BPF_NAME_OLI\">\"LO8BPF20180419184544_20180419192109.01\"</MDI>\r\n",
      "    <MDI key=\"L1_METADATA_FILE.PRODUCT_METADATA.BPF_NAME_TIRS\">\"LT8BPF20180413234647_20180413235524.02\"</MDI>\r\n",
      "    <MDI key=\"L1_METADATA_FILE.PRODUCT_METADATA.COLLECTION_CATEGORY\">\"RT\"</MDI>\r\n",
      "    <MDI key=\"L1_METADATA_FILE.PRODUCT_METADATA.CORNER_LL_LAT_PRODUCT\">46.35334</MDI>\r\n",
      "    <MDI key=\"L1_METADATA_FILE.PRODUCT_METADATA.CORNER_LL_LON_PRODUCT\">-124.92104</MDI>\r\n",
      "    <MDI key=\"L1_METADATA_FILE.PRODUCT_METADATA.CORNER_LL_PROJECTION_X_PRODUCT\">352200.000</MDI>\r\n",
      "    <MDI key=\"L1_METADATA_FILE.PRODUCT_METADATA.CORNER_LL_PROJECTION_Y_PRODUCT\">5135100.000</MDI>\r\n",
      "    <MDI key=\"L1_METADATA_FILE.PRODUCT_METADATA.CORNER_LR_LAT_PRODUCT\">46.36375</MDI>\r\n",
      "    <MDI key=\"L1_METADATA_FILE.PRODUCT_METADATA.CORNER_LR_LON_PRODUCT\">-121.85600</MDI>\r\n",
      "    <MDI key=\"L1_METADATA_FILE.PRODUCT_METADATA.CORNER_LR_PROJECTION_X_PRODUCT\">588000.000</MDI>\r\n",
      "    <MDI key=\"L1_METADATA_FILE.PRODUCT_METADATA.CORNER_LR_PROJECTION_Y_PRODUCT\">5135100.000</MDI>\r\n",
      "    <MDI key=\"L1_METADATA_FILE.PRODUCT_METADATA.CORNER_UL_LAT_PRODUCT\">48.50352</MDI>\r\n",
      "    <MDI key=\"L1_METADATA_FILE.PRODUCT_METADATA.CORNER_UL_LON_PRODUCT\">-125.00095</MDI>\r\n",
      "    <MDI key=\"L1_METADATA_FILE.PRODUCT_METADATA.CORNER_UL_PROJECTION_X_PRODUCT\">352200.000</MDI>\r\n",
      "    <MDI key=\"L1_METADATA_FILE.PRODUCT_METADATA.CORNER_UL_PROJECTION_Y_PRODUCT\">5374200.000</MDI>\r\n",
      "    <MDI key=\"L1_METADATA_FILE.PRODUCT_METADATA.CORNER_UR_LAT_PRODUCT\">48.51474</MDI>\r\n",
      "    <MDI key=\"L1_METADATA_FILE.PRODUCT_METADATA.CORNER_UR_LON_PRODUCT\">-121.80839</MDI>\r\n",
      "    <MDI key=\"L1_METADATA_FILE.PRODUCT_METADATA.CORNER_UR_PROJECTION_X_PRODUCT\">588000.000</MDI>\r\n",
      "    <MDI key=\"L1_METADATA_FILE.PRODUCT_METADATA.CORNER_UR_PROJECTION_Y_PRODUCT\">5374200.000</MDI>\r\n",
      "    <MDI key=\"L1_METADATA_FILE.PRODUCT_METADATA.CPF_NAME\">\"LC08CPF_20180401_20180630_01.01\"</MDI>\r\n",
      "    <MDI key=\"L1_METADATA_FILE.PRODUCT_METADATA.DATA_TYPE\">\"L1TP\"</MDI>\r\n",
      "    <MDI key=\"L1_METADATA_FILE.PRODUCT_METADATA.DATE_ACQUIRED\">2018-04-19</MDI>\r\n",
      "    <MDI key=\"L1_METADATA_FILE.PRODUCT_METADATA.ELEVATION_SOURCE\">\"GLS2000\"</MDI>\r\n",
      "    <MDI key=\"L1_METADATA_FILE.PRODUCT_METADATA.FILE_NAME_BAND_1\">\"LC08_L1TP_047027_20180419_20180420_01_RT_B1.TIF\"</MDI>\r\n",
      "    <MDI key=\"L1_METADATA_FILE.PRODUCT_METADATA.FILE_NAME_BAND_10\">\"LC08_L1TP_047027_20180419_20180420_01_RT_B10.TIF\"</MDI>\r\n",
      "    <MDI key=\"L1_METADATA_FILE.PRODUCT_METADATA.FILE_NAME_BAND_11\">\"LC08_L1TP_047027_20180419_20180420_01_RT_B11.TIF\"</MDI>\r\n",
      "    <MDI key=\"L1_METADATA_FILE.PRODUCT_METADATA.FILE_NAME_BAND_2\">\"LC08_L1TP_047027_20180419_20180420_01_RT_B2.TIF\"</MDI>\r\n",
      "    <MDI key=\"L1_METADATA_FILE.PRODUCT_METADATA.FILE_NAME_BAND_3\">\"LC08_L1TP_047027_20180419_20180420_01_RT_B3.TIF\"</MDI>\r\n",
      "    <MDI key=\"L1_METADATA_FILE.PRODUCT_METADATA.FILE_NAME_BAND_4\">\"LC08_L1TP_047027_20180419_20180420_01_RT_B4.TIF\"</MDI>\r\n",
      "    <MDI key=\"L1_METADATA_FILE.PRODUCT_METADATA.FILE_NAME_BAND_5\">\"LC08_L1TP_047027_20180419_20180420_01_RT_B5.TIF\"</MDI>\r\n",
      "    <MDI key=\"L1_METADATA_FILE.PRODUCT_METADATA.FILE_NAME_BAND_6\">\"LC08_L1TP_047027_20180419_20180420_01_RT_B6.TIF\"</MDI>\r\n",
      "    <MDI key=\"L1_METADATA_FILE.PRODUCT_METADATA.FILE_NAME_BAND_7\">\"LC08_L1TP_047027_20180419_20180420_01_RT_B7.TIF\"</MDI>\r\n",
      "    <MDI key=\"L1_METADATA_FILE.PRODUCT_METADATA.FILE_NAME_BAND_8\">\"LC08_L1TP_047027_20180419_20180420_01_RT_B8.TIF\"</MDI>\r\n",
      "    <MDI key=\"L1_METADATA_FILE.PRODUCT_METADATA.FILE_NAME_BAND_9\">\"LC08_L1TP_047027_20180419_20180420_01_RT_B9.TIF\"</MDI>\r\n",
      "    <MDI key=\"L1_METADATA_FILE.PRODUCT_METADATA.FILE_NAME_BAND_QUALITY\">\"LC08_L1TP_047027_20180419_20180420_01_RT_BQA.TIF\"</MDI>\r\n",
      "    <MDI key=\"L1_METADATA_FILE.PRODUCT_METADATA.METADATA_FILE_NAME\">\"LC08_L1TP_047027_20180419_20180420_01_RT_MTL.txt\"</MDI>\r\n",
      "    <MDI key=\"L1_METADATA_FILE.PRODUCT_METADATA.NADIR_OFFNADIR\">\"NADIR\"</MDI>\r\n",
      "    <MDI key=\"L1_METADATA_FILE.PRODUCT_METADATA.OUTPUT_FORMAT\">\"GEOTIFF\"</MDI>\r\n",
      "    <MDI key=\"L1_METADATA_FILE.PRODUCT_METADATA.PANCHROMATIC_LINES\">15941</MDI>\r\n",
      "    <MDI key=\"L1_METADATA_FILE.PRODUCT_METADATA.PANCHROMATIC_SAMPLES\">15721</MDI>\r\n",
      "    <MDI key=\"L1_METADATA_FILE.PRODUCT_METADATA.REFLECTIVE_LINES\">7971</MDI>\r\n",
      "    <MDI key=\"L1_METADATA_FILE.PRODUCT_METADATA.REFLECTIVE_SAMPLES\">7861</MDI>\r\n",
      "    <MDI key=\"L1_METADATA_FILE.PRODUCT_METADATA.RLUT_FILE_NAME\">\"LC08RLUT_20150303_20431231_01_12.h5\"</MDI>\r\n",
      "    <MDI key=\"L1_METADATA_FILE.PRODUCT_METADATA.SCENE_CENTER_TIME\">\"19:01:05.9067169Z\"</MDI>\r\n",
      "    <MDI key=\"L1_METADATA_FILE.PRODUCT_METADATA.SENSOR_ID\">\"OLI_TIRS\"</MDI>\r\n",
      "    <MDI key=\"L1_METADATA_FILE.PRODUCT_METADATA.SPACECRAFT_ID\">\"LANDSAT_8\"</MDI>\r\n",
      "    <MDI key=\"L1_METADATA_FILE.PRODUCT_METADATA.TARGET_WRS_PATH\">47</MDI>\r\n",
      "    <MDI key=\"L1_METADATA_FILE.PRODUCT_METADATA.TARGET_WRS_ROW\">27</MDI>\r\n",
      "    <MDI key=\"L1_METADATA_FILE.PRODUCT_METADATA.THERMAL_LINES\">7971</MDI>\r\n",
      "    <MDI key=\"L1_METADATA_FILE.PRODUCT_METADATA.THERMAL_SAMPLES\">7861</MDI>\r\n",
      "    <MDI key=\"L1_METADATA_FILE.PRODUCT_METADATA.WRS_PATH\">47</MDI>\r\n",
      "    <MDI key=\"L1_METADATA_FILE.PRODUCT_METADATA.WRS_ROW\">27</MDI>\r\n",
      "    <MDI key=\"L1_METADATA_FILE.PROJECTION_PARAMETERS.DATUM\">\"WGS84\"</MDI>\r\n",
      "    <MDI key=\"L1_METADATA_FILE.PROJECTION_PARAMETERS.ELLIPSOID\">\"WGS84\"</MDI>\r\n",
      "    <MDI key=\"L1_METADATA_FILE.PROJECTION_PARAMETERS.GRID_CELL_SIZE_PANCHROMATIC\">15.00</MDI>\r\n",
      "    <MDI key=\"L1_METADATA_FILE.PROJECTION_PARAMETERS.GRID_CELL_SIZE_REFLECTIVE\">30.00</MDI>\r\n",
      "    <MDI key=\"L1_METADATA_FILE.PROJECTION_PARAMETERS.GRID_CELL_SIZE_THERMAL\">30.00</MDI>\r\n",
      "    <MDI key=\"L1_METADATA_FILE.PROJECTION_PARAMETERS.MAP_PROJECTION\">\"UTM\"</MDI>\r\n",
      "    <MDI key=\"L1_METADATA_FILE.PROJECTION_PARAMETERS.ORIENTATION\">\"NORTH_UP\"</MDI>\r\n",
      "    <MDI key=\"L1_METADATA_FILE.PROJECTION_PARAMETERS.RESAMPLING_OPTION\">\"CUBIC_CONVOLUTION\"</MDI>\r\n",
      "    <MDI key=\"L1_METADATA_FILE.PROJECTION_PARAMETERS.UTM_ZONE\">10</MDI>\r\n",
      "    <MDI key=\"L1_METADATA_FILE.RADIOMETRIC_RESCALING.RADIANCE_ADD_BAND_1\">-62.21885</MDI>\r\n",
      "    <MDI key=\"L1_METADATA_FILE.RADIOMETRIC_RESCALING.RADIANCE_ADD_BAND_10\">0.10000</MDI>\r\n",
      "    <MDI key=\"L1_METADATA_FILE.RADIOMETRIC_RESCALING.RADIANCE_ADD_BAND_11\">0.10000</MDI>\r\n",
      "    <MDI key=\"L1_METADATA_FILE.RADIOMETRIC_RESCALING.RADIANCE_ADD_BAND_2\">-63.71286</MDI>\r\n",
      "    <MDI key=\"L1_METADATA_FILE.RADIOMETRIC_RESCALING.RADIANCE_ADD_BAND_3\">-58.71086</MDI>\r\n",
      "    <MDI key=\"L1_METADATA_FILE.RADIOMETRIC_RESCALING.RADIANCE_ADD_BAND_4\">-49.50830</MDI>\r\n",
      "    <MDI key=\"L1_METADATA_FILE.RADIOMETRIC_RESCALING.RADIANCE_ADD_BAND_5\">-30.29661</MDI>\r\n",
      "    <MDI key=\"L1_METADATA_FILE.RADIOMETRIC_RESCALING.RADIANCE_ADD_BAND_6\">-7.53449</MDI>\r\n",
      "    <MDI key=\"L1_METADATA_FILE.RADIOMETRIC_RESCALING.RADIANCE_ADD_BAND_7\">-2.53953</MDI>\r\n",
      "    <MDI key=\"L1_METADATA_FILE.RADIOMETRIC_RESCALING.RADIANCE_ADD_BAND_8\">-56.02977</MDI>\r\n",
      "    <MDI key=\"L1_METADATA_FILE.RADIOMETRIC_RESCALING.RADIANCE_ADD_BAND_9\">-11.84060</MDI>\r\n",
      "    <MDI key=\"L1_METADATA_FILE.RADIOMETRIC_RESCALING.RADIANCE_MULT_BAND_1\">1.2444E-02</MDI>\r\n",
      "    <MDI key=\"L1_METADATA_FILE.RADIOMETRIC_RESCALING.RADIANCE_MULT_BAND_10\">3.3420E-04</MDI>\r\n",
      "    <MDI key=\"L1_METADATA_FILE.RADIOMETRIC_RESCALING.RADIANCE_MULT_BAND_11\">3.3420E-04</MDI>\r\n",
      "    <MDI key=\"L1_METADATA_FILE.RADIOMETRIC_RESCALING.RADIANCE_MULT_BAND_2\">1.2743E-02</MDI>\r\n",
      "    <MDI key=\"L1_METADATA_FILE.RADIOMETRIC_RESCALING.RADIANCE_MULT_BAND_3\">1.1742E-02</MDI>\r\n",
      "    <MDI key=\"L1_METADATA_FILE.RADIOMETRIC_RESCALING.RADIANCE_MULT_BAND_4\">9.9017E-03</MDI>\r\n",
      "    <MDI key=\"L1_METADATA_FILE.RADIOMETRIC_RESCALING.RADIANCE_MULT_BAND_5\">6.0593E-03</MDI>\r\n",
      "    <MDI key=\"L1_METADATA_FILE.RADIOMETRIC_RESCALING.RADIANCE_MULT_BAND_6\">1.5069E-03</MDI>\r\n",
      "    <MDI key=\"L1_METADATA_FILE.RADIOMETRIC_RESCALING.RADIANCE_MULT_BAND_7\">5.0791E-04</MDI>\r\n",
      "    <MDI key=\"L1_METADATA_FILE.RADIOMETRIC_RESCALING.RADIANCE_MULT_BAND_8\">1.1206E-02</MDI>\r\n",
      "    <MDI key=\"L1_METADATA_FILE.RADIOMETRIC_RESCALING.RADIANCE_MULT_BAND_9\">2.3681E-03</MDI>\r\n",
      "    <MDI key=\"L1_METADATA_FILE.RADIOMETRIC_RESCALING.REFLECTANCE_ADD_BAND_1\">-0.100000</MDI>\r\n",
      "    <MDI key=\"L1_METADATA_FILE.RADIOMETRIC_RESCALING.REFLECTANCE_ADD_BAND_2\">-0.100000</MDI>\r\n",
      "    <MDI key=\"L1_METADATA_FILE.RADIOMETRIC_RESCALING.REFLECTANCE_ADD_BAND_3\">-0.100000</MDI>\r\n",
      "    <MDI key=\"L1_METADATA_FILE.RADIOMETRIC_RESCALING.REFLECTANCE_ADD_BAND_4\">-0.100000</MDI>\r\n",
      "    <MDI key=\"L1_METADATA_FILE.RADIOMETRIC_RESCALING.REFLECTANCE_ADD_BAND_5\">-0.100000</MDI>\r\n",
      "    <MDI key=\"L1_METADATA_FILE.RADIOMETRIC_RESCALING.REFLECTANCE_ADD_BAND_6\">-0.100000</MDI>\r\n",
      "    <MDI key=\"L1_METADATA_FILE.RADIOMETRIC_RESCALING.REFLECTANCE_ADD_BAND_7\">-0.100000</MDI>\r\n",
      "    <MDI key=\"L1_METADATA_FILE.RADIOMETRIC_RESCALING.REFLECTANCE_ADD_BAND_8\">-0.100000</MDI>\r\n",
      "    <MDI key=\"L1_METADATA_FILE.RADIOMETRIC_RESCALING.REFLECTANCE_ADD_BAND_9\">-0.100000</MDI>\r\n",
      "    <MDI key=\"L1_METADATA_FILE.RADIOMETRIC_RESCALING.REFLECTANCE_MULT_BAND_1\">2.0000E-05</MDI>\r\n",
      "    <MDI key=\"L1_METADATA_FILE.RADIOMETRIC_RESCALING.REFLECTANCE_MULT_BAND_2\">2.0000E-05</MDI>\r\n",
      "    <MDI key=\"L1_METADATA_FILE.RADIOMETRIC_RESCALING.REFLECTANCE_MULT_BAND_3\">2.0000E-05</MDI>\r\n",
      "    <MDI key=\"L1_METADATA_FILE.RADIOMETRIC_RESCALING.REFLECTANCE_MULT_BAND_4\">2.0000E-05</MDI>\r\n",
      "    <MDI key=\"L1_METADATA_FILE.RADIOMETRIC_RESCALING.REFLECTANCE_MULT_BAND_5\">2.0000E-05</MDI>\r\n",
      "    <MDI key=\"L1_METADATA_FILE.RADIOMETRIC_RESCALING.REFLECTANCE_MULT_BAND_6\">2.0000E-05</MDI>\r\n",
      "    <MDI key=\"L1_METADATA_FILE.RADIOMETRIC_RESCALING.REFLECTANCE_MULT_BAND_7\">2.0000E-05</MDI>\r\n",
      "    <MDI key=\"L1_METADATA_FILE.RADIOMETRIC_RESCALING.REFLECTANCE_MULT_BAND_8\">2.0000E-05</MDI>\r\n",
      "    <MDI key=\"L1_METADATA_FILE.RADIOMETRIC_RESCALING.REFLECTANCE_MULT_BAND_9\">2.0000E-05</MDI>\r\n",
      "    <MDI key=\"L1_METADATA_FILE.TIRS_THERMAL_CONSTANTS.K1_CONSTANT_BAND_10\">774.8853</MDI>\r\n",
      "    <MDI key=\"L1_METADATA_FILE.TIRS_THERMAL_CONSTANTS.K1_CONSTANT_BAND_11\">480.8883</MDI>\r\n",
      "    <MDI key=\"L1_METADATA_FILE.TIRS_THERMAL_CONSTANTS.K2_CONSTANT_BAND_10\">1321.0789</MDI>\r\n",
      "    <MDI key=\"L1_METADATA_FILE.TIRS_THERMAL_CONSTANTS.K2_CONSTANT_BAND_11\">1201.1442</MDI>\r\n",
      "  </Metadata>\r\n",
      "  <VRTRasterBand dataType=\"UInt16\" band=\"1\">\r\n",
      "    <ColorInterp>Gray</ColorInterp>\r\n",
      "    <SimpleSource>\r\n",
      "      <SourceFilename relativeToVRT=\"0\">/vsicurl/landsat-pds.s3.amazonaws.com/c1/L8/047/027/LC08_L1TP_047027_20180419_20180420_01_RT/LC08_L1TP_047027_20180419_20180420_01_RT_B1.TIF</SourceFilename>\r\n",
      "      <SourceBand>1</SourceBand>\r\n",
      "      <SourceProperties RasterXSize=\"7861\" RasterYSize=\"7971\" DataType=\"UInt16\" BlockXSize=\"512\" BlockYSize=\"512\" />\r\n",
      "      <SrcRect xOff=\"0\" yOff=\"0\" xSize=\"7861\" ySize=\"7971\" />\r\n",
      "      <DstRect xOff=\"0\" yOff=\"0\" xSize=\"7861\" ySize=\"7971\" />\r\n",
      "    </SimpleSource>\r\n",
      "  </VRTRasterBand>\r\n",
      "</VRTDataset>\r\n"
     ]
    }
   ],
   "source": [
    "# NOTE: key is /vsicurl/ pointer in <SimpleSource> tag\n",
    "!cat {gdalvrt}"
   ]
  },
  {
   "cell_type": "code",
   "execution_count": 9,
   "metadata": {},
   "outputs": [
    {
     "name": "stdout",
     "output_type": "stream",
     "text": [
      "Driver: VRT/Virtual Raster\n",
      "Files: LC08_L1TP_047027_20180419_20180420_01_RT_B1_gdal.vrt\n",
      "       /vsicurl/landsat-pds.s3.amazonaws.com/c1/L8/047/027/LC08_L1TP_047027_20180419_20180420_01_RT/LC08_L1TP_047027_20180419_20180420_01_RT_B1.TIF\n",
      "Size is 7861, 7971\n",
      "Coordinate System is:\n",
      "PROJCS[\"WGS 84 / UTM zone 10N\",\n",
      "    GEOGCS[\"WGS 84\",\n",
      "        DATUM[\"WGS_1984\",\n",
      "            SPHEROID[\"WGS 84\",6378137,298.257223563,\n",
      "                AUTHORITY[\"EPSG\",\"7030\"]],\n",
      "            AUTHORITY[\"EPSG\",\"6326\"]],\n",
      "        PRIMEM[\"Greenwich\",0,\n",
      "            AUTHORITY[\"EPSG\",\"8901\"]],\n",
      "        UNIT[\"degree\",0.0174532925199433,\n",
      "            AUTHORITY[\"EPSG\",\"9122\"]],\n",
      "        AUTHORITY[\"EPSG\",\"4326\"]],\n",
      "    PROJECTION[\"Transverse_Mercator\"],\n",
      "    PARAMETER[\"latitude_of_origin\",0],\n",
      "    PARAMETER[\"central_meridian\",-123],\n",
      "    PARAMETER[\"scale_factor\",0.9996],\n",
      "    PARAMETER[\"false_easting\",500000],\n",
      "    PARAMETER[\"false_northing\",0],\n",
      "    UNIT[\"metre\",1,\n",
      "        AUTHORITY[\"EPSG\",\"9001\"]],\n",
      "    AXIS[\"Easting\",EAST],\n",
      "    AXIS[\"Northing\",NORTH],\n",
      "    AUTHORITY[\"EPSG\",\"32610\"]]\n",
      "Origin = (352185.000000000000000,5374215.000000000000000)\n",
      "Pixel Size = (30.000000000000000,-30.000000000000000)\n",
      "Metadata:\n",
      "  AREA_OR_POINT=Point\n",
      "Corner Coordinates:\n",
      "Upper Left  (  352185.000, 5374215.000) (125d 0' 4.17\"W, 48d30'13.14\"N)\n",
      "Lower Left  (  352185.000, 5135085.000) (124d55'16.45\"W, 46d21'11.51\"N)\n",
      "Upper Right (  588015.000, 5374215.000) (121d48'29.47\"W, 48d30'53.56\"N)\n",
      "Lower Right (  588015.000, 5135085.000) (121d51'20.91\"W, 46d21'49.01\"N)\n",
      "Center      (  470100.000, 5254650.000) (123d23'47.73\"W, 47d26'40.59\"N)\n",
      "Band 1 Block=128x128 Type=UInt16, ColorInterp=Gray\n",
      "  Overviews: 2621x2657, 874x886, 292x296\n",
      "CPU times: user 8.33 ms, sys: 16.1 ms, total: 24.4 ms\n",
      "Wall time: 345 ms\n"
     ]
    }
   ],
   "source": [
    "%%time\n",
    "# Use the VRT to access the COG. faster due to caching?\n",
    "!gdalinfo {gdalvrt}"
   ]
  },
  {
   "cell_type": "code",
   "execution_count": 10,
   "metadata": {},
   "outputs": [
    {
     "name": "stdout",
     "output_type": "stream",
     "text": [
      "gdallocationinfo -wgs84 LC08_L1TP_047027_20180419_20180420_01_RT_B1_gdal.vrt -122.335167 47.608013\n",
      "Report:\n",
      "  Location: (6592P,3375L)\n",
      "  Band 1:\n",
      "    <LocationInfo><File>/vsicurl/landsat-pds.s3.amazonaws.com/c1/L8/047/027/LC08_L1TP_047027_20180419_20180420_01_RT/LC08_L1TP_047027_20180419_20180420_01_RT_B1.TIF</File></LocationInfo>\n",
      "    Value: 10439\n"
     ]
    }
   ],
   "source": [
    "# Do something other than get metadata\n",
    "cmd = f'gdallocationinfo -wgs84 {gdalvrt} -122.335167 47.608013'\n",
    "print(cmd)\n",
    "!{cmd}"
   ]
  },
  {
   "cell_type": "code",
   "execution_count": 11,
   "metadata": {},
   "outputs": [
    {
     "name": "stdout",
     "output_type": "stream",
     "text": [
      "{\"blockxsize\": 128, \"blockysize\": 128, \"bounds\": [352185.0, 5135085.0, 588015.0, 5374215.0], \"colorinterp\": [\"grey\"], \"count\": 1, \"crs\": \"EPSG:32610\", \"descriptions\": [null], \"driver\": \"VRT\", \"dtype\": \"uint16\", \"height\": 7971, \"indexes\": [1], \"lnglat\": [-123.39659086399698, 47.444608553735556], \"mask_flags\": [[\"all_valid\"]], \"nodata\": null, \"res\": [30.0, 30.0], \"shape\": [7971, 7861], \"tiled\": true, \"transform\": [30.0, 0.0, 352185.0, 0.0, -30.0, 5374215.0, 0.0, 0.0, 1.0], \"units\": [null], \"width\": 7861}\n",
      "CPU times: user 18.4 ms, sys: 44.6 ms, total: 63 ms\n",
      "Wall time: 1.22 s\n"
     ]
    }
   ],
   "source": [
    "%%time\n",
    "# Seems that rasterio can READ, but NOT WRITE these VRTs:\n",
    "!rio info {gdalvrt}"
   ]
  },
  {
   "cell_type": "code",
   "execution_count": 12,
   "metadata": {},
   "outputs": [
    {
     "name": "stdout",
     "output_type": "stream",
     "text": [
      "rio convert -f VRT /vsicurl/landsat-pds.s3.amazonaws.com/c1/L8/047/027/LC08_L1TP_047027_20180419_20180420_01_RT/LC08_L1TP_047027_20180419_20180420_01_RT_B1.TIF LC08_L1TP_047027_20180419_20180420_01_RT_B1_rio.vrt\n",
      "Traceback (most recent call last):\n",
      "  File \"/Users/scott/miniconda3/envs/rasterio1/bin/rio\", line 11, in <module>\n",
      "    sys.exit(main_group())\n",
      "  File \"/Users/scott/miniconda3/envs/rasterio1/lib/python3.6/site-packages/click/core.py\", line 722, in __call__\n",
      "    return self.main(*args, **kwargs)\n",
      "  File \"/Users/scott/miniconda3/envs/rasterio1/lib/python3.6/site-packages/click/core.py\", line 697, in main\n",
      "    rv = self.invoke(ctx)\n",
      "  File \"/Users/scott/miniconda3/envs/rasterio1/lib/python3.6/site-packages/click/core.py\", line 1066, in invoke\n",
      "    return _process_result(sub_ctx.command.invoke(sub_ctx))\n",
      "  File \"/Users/scott/miniconda3/envs/rasterio1/lib/python3.6/site-packages/click/core.py\", line 895, in invoke\n",
      "    return ctx.invoke(self.callback, **ctx.params)\n",
      "  File \"/Users/scott/miniconda3/envs/rasterio1/lib/python3.6/site-packages/click/core.py\", line 535, in invoke\n",
      "    return callback(*args, **kwargs)\n",
      "  File \"/Users/scott/miniconda3/envs/rasterio1/lib/python3.6/site-packages/click/decorators.py\", line 17, in new_func\n",
      "    return f(get_current_context(), *args, **kwargs)\n",
      "  File \"/Users/scott/miniconda3/envs/rasterio1/lib/python3.6/site-packages/rasterio/rio/convert.py\", line 98, in convert\n",
      "    dst.write(result)\n",
      "  File \"rasterio/_io.pyx\", line 1278, in rasterio._io.DatasetWriterBase.write\n",
      "OSError: Read or write failed\n",
      "CPU times: user 348 ms, sys: 737 ms, total: 1.08 s\n",
      "Wall time: 20 s\n"
     ]
    }
   ],
   "source": [
    "%%time\n",
    "# Try to save a local vrt with rasterio/rio\n",
    "# NOTE: creates incomplete VRT... and eventually produces an error\n",
    "riovrt = f'{id}_B{band}_rio.vrt'\n",
    "cmd = f'rio convert -f VRT {url} {riovrt}'\n",
    "print(cmd)\n",
    "!{cmd}"
   ]
  },
  {
   "cell_type": "code",
   "execution_count": 13,
   "metadata": {},
   "outputs": [
    {
     "ename": "OSError",
     "evalue": "Read or write failed",
     "output_type": "error",
     "traceback": [
      "\u001b[0;31m---------------------------------------------------------------------------\u001b[0m",
      "\u001b[0;31mOSError\u001b[0m                                   Traceback (most recent call last)",
      "\u001b[0;32m<timed exec>\u001b[0m in \u001b[0;36m<module>\u001b[0;34m()\u001b[0m\n",
      "\u001b[0;32mrasterio/_io.pyx\u001b[0m in \u001b[0;36mrasterio._io.DatasetWriterBase.write\u001b[0;34m()\u001b[0m\n",
      "\u001b[0;31mOSError\u001b[0m: Read or write failed"
     ]
    }
   ],
   "source": [
    "%%time\n",
    "with rasterio.open(gdalvrt) as src:\n",
    "    profile = src.profile.copy()\n",
    "    profile.update(driver='VRT')\n",
    "    with rasterio.open('out.vrt', 'w', **profile) as dst:\n",
    "        dst.write(src.read())"
   ]
  },
  {
   "cell_type": "code",
   "execution_count": 14,
   "metadata": {},
   "outputs": [
    {
     "name": "stdout",
     "output_type": "stream",
     "text": [
      "CPU times: user 38.5 ms, sys: 6.36 ms, total: 44.9 ms\n",
      "Wall time: 1.61 s\n"
     ]
    },
    {
     "data": {
      "image/png": "[encoded data removed]",
      "text/plain": [
       "<matplotlib.figure.Figure at 0x106a58da0>"
      ]
     },
     "metadata": {},
     "output_type": "display_data"
    }
   ],
   "source": [
    "%%time\n",
    "oview = 32\n",
    "with rasterio.open(gdalvrt) as src:\n",
    "    thumbnail = src.read(1, out_shape=(1, int(src.height // oview), int(src.width // oview)))\n",
    "    \n",
    "plt.imshow(thumbnail)\n",
    "plt.title('Overview - Band 5 ({})'.format(thumbnail.shape))\n",
    "plt.xlabel('Column #')\n",
    "plt.ylabel('Row #')"
   ]
  },
  {
   "cell_type": "code",
   "execution_count": 15,
   "metadata": {},
   "outputs": [
    {
     "ename": "ImportError",
     "evalue": "cannot import name 'copy'",
     "output_type": "error",
     "traceback": [
      "\u001b[0;31m---------------------------------------------------------------------------\u001b[0m",
      "\u001b[0;31mImportError\u001b[0m                               Traceback (most recent call last)",
      "\u001b[0;32m<ipython-input-15-3b3487048090>\u001b[0m in \u001b[0;36m<module>\u001b[0;34m()\u001b[0m\n\u001b[1;32m      4\u001b[0m \u001b[0;31m#https://github.com/mapbox/rasterio/pull/1041#issuecomment-308625948\u001b[0m\u001b[0;34m\u001b[0m\u001b[0;34m\u001b[0m\u001b[0m\n\u001b[1;32m      5\u001b[0m \u001b[0;34m\u001b[0m\u001b[0m\n\u001b[0;32m----> 6\u001b[0;31m \u001b[0;32mfrom\u001b[0m \u001b[0mrasterio\u001b[0m \u001b[0;32mimport\u001b[0m \u001b[0mcopy\u001b[0m\u001b[0;34m\u001b[0m\u001b[0m\n\u001b[0m",
      "\u001b[0;31mImportError\u001b[0m: cannot import name 'copy'"
     ]
    }
   ],
   "source": [
    "# Seems that rasterio *should* be able to write VRTs:\n",
    "\n",
    "# \"from rasterio import copy\" approach described here doesn't seem to work \n",
    "#https://github.com/mapbox/rasterio/pull/1041#issuecomment-308625948\n",
    "\n",
    "from rasterio import copy"
   ]
  },
  {
   "cell_type": "code",
   "execution_count": 16,
   "metadata": {},
   "outputs": [
    {
     "name": "stdout",
     "output_type": "stream",
     "text": [
      "{'AREA_OR_POINT': 'Point'}\n",
      "{'driver': 'GTiff', 'dtype': 'uint16', 'nodata': None, 'width': 7861, 'height': 7971, 'count': 1, 'crs': CRS({'init': 'epsg:32610'}), 'transform': Affine(30.0, 0.0, 352185.0,\n",
      "       0.0, -30.0, 5374215.0), 'blockxsize': 512, 'blockysize': 512, 'tiled': True, 'compress': 'deflate', 'interleave': 'band'}\n",
      "CPU times: user 713 ms, sys: 606 ms, total: 1.32 s\n",
      "Wall time: 27.2 s\n"
     ]
    }
   ],
   "source": [
    "%%time\n",
    "# This issue demonstrates operating on a WarpedVRT \n",
    "# but then saving locally as Geotif:\n",
    "#https://github.com/mapbox/rasterio/pull/1029\n",
    "\n",
    "# down in comments describes a non-intuitive way to save VRTs:\n",
    "# NOTE: this does not generate an error, but does not save the pointer\n",
    "# to the file on Cloud storage and therefore does not work.\n",
    "from rasterio.warp import reproject\n",
    "\n",
    "with rasterio.open(url) as src:\n",
    "    print(src.tags())\n",
    "    print(src.profile)\n",
    "    profile = src.profile.copy()\n",
    "    profile.update(driver='VRT')\n",
    "    with rasterio.open('out.vrt', 'w', **profile) as dst:\n",
    "        for bidx in range(1, src.count + 1):\n",
    "            reproject(\n",
    "                rasterio.band(src, bidx),\n",
    "                rasterio.band(dst, bidx))"
   ]
  },
  {
   "cell_type": "code",
   "execution_count": 17,
   "metadata": {},
   "outputs": [
    {
     "name": "stdout",
     "output_type": "stream",
     "text": [
      "{'AREA_OR_POINT': 'Point'}\n",
      "{'driver': 'GTiff', 'dtype': 'uint16', 'nodata': None, 'width': 7861, 'height': 7971, 'count': 1, 'crs': CRS({'init': 'epsg:32610'}), 'transform': Affine(30.0, 0.0, 352185.0,\n",
      "       0.0, -30.0, 5374215.0), 'blockxsize': 512, 'blockysize': 512, 'tiled': True, 'compress': 'deflate', 'interleave': 'band'}\n",
      "CPU times: user 9.77 ms, sys: 6.85 ms, total: 16.6 ms\n",
      "Wall time: 167 ms\n"
     ]
    }
   ],
   "source": [
    "%%time\n",
    "# Yet another approach to saving a VRT, which does seem to work!\n",
    "#http://rasterio.readthedocs.io/en/latest/topics/virtual-warping.html\n",
    "\n",
    "from rasterio import shutil as rio_shutil\n",
    "from rasterio.vrt import WarpedVRT\n",
    "\n",
    "# NOTE: just try to save a VRT without doing any coordinate transformation\n",
    "\n",
    "# Dump the aligned data into a new file.  A VRT representing\n",
    "# this transformation can also be produced by switching\n",
    "# to the VRT driver.\n",
    "with rasterio.open(url) as src:\n",
    "    print(src.tags())\n",
    "    print(src.profile)\n",
    "    \n",
    "    with WarpedVRT(src) as vrt:    \n",
    "        outfile = riovrt\n",
    "        rio_shutil.copy(vrt, outfile, driver='VRT')"
   ]
  },
  {
   "cell_type": "code",
   "execution_count": 18,
   "metadata": {},
   "outputs": [
    {
     "name": "stdout",
     "output_type": "stream",
     "text": [
      "VRT saved by gdal_translate:\n",
      "------------------\n",
      "{'AREA_OR_POINT': 'Point'}\n",
      "{'driver': 'VRT', 'dtype': 'uint16', 'nodata': None, 'width': 7861, 'height': 7971, 'count': 1, 'crs': CRS({'init': 'epsg:32610'}), 'transform': Affine(30.0, 0.0, 352185.0,\n",
      "       0.0, -30.0, 5374215.0), 'blockxsize': 128, 'blockysize': 128, 'tiled': True}\n",
      "VRT saved by rasterio:\n",
      "------------------\n",
      "{}\n",
      "{'driver': 'VRT', 'dtype': 'uint16', 'nodata': None, 'width': 7861, 'height': 7971, 'count': 1, 'crs': CRS({'init': 'epsg:32610'}), 'transform': Affine(30.000000000000004, 0.0, 352185.0,\n",
      "       0.0, -30.000000000000004, 5374215.0), 'blockxsize': 512, 'blockysize': 128, 'tiled': True}\n"
     ]
    }
   ],
   "source": [
    "# NOTE: VRT from rasterio is not quite the same as the one produced by gdal_translate:\n",
    "print('VRT saved by gdal_translate:')\n",
    "print('------------------')\n",
    "with rasterio.open(gdalvrt) as src:\n",
    "    print(src.tags())\n",
    "    print(src.profile)\n",
    "    \n",
    "print('VRT saved by rasterio:')\n",
    "print('------------------')\n",
    "with rasterio.open(riovrt) as src:\n",
    "    print(src.tags())\n",
    "    print(src.profile)"
   ]
  },
  {
   "cell_type": "code",
   "execution_count": null,
   "metadata": {},
   "outputs": [],
   "source": []
  }
 ],
 "metadata": {
  "kernelspec": {
   "display_name": "Python 3",
   "language": "python",
   "name": "python3"
  },
  "language_info": {
   "codemirror_mode": {
    "name": "ipython",
    "version": 3
   },
   "file_extension": ".py",
   "mimetype": "text/x-python",
   "name": "python",
   "nbconvert_exporter": "python",
   "pygments_lexer": "ipython3",
   "version": "3.6.4"
  }
 },
 "nbformat": 4,
 "nbformat_minor": 2
}
