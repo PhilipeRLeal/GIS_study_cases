{
 "cells": [
  {
   "cell_type": "markdown",
   "metadata": {},
   "source": [
    "# Exercícios do Livro de introdução ao Python em Ciências atmosféricas e Oceânicas:\n",
    "\n",
    "Ref: http://www.johnny-lin.com/pyintro/ed01/free_pdfs/ch04.pdf"
   ]
  },
  {
   "cell_type": "code",
   "execution_count": 1,
   "metadata": {},
   "outputs": [],
   "source": [
    "import numpy as np\n"
   ]
  },
  {
   "cell_type": "code",
   "execution_count": 4,
   "metadata": {},
   "outputs": [
    {
     "name": "stdout",
     "output_type": "stream",
     "text": [
      "OI. Eu sou:  0\n",
      "OI. Eu sou:  1\n",
      "OI. Eu sou:  2\n",
      "OI. Eu sou:  3\n",
      "OI. Eu sou:  4\n",
      "OI. Eu sou:  5\n",
      "OI. Eu sou:  6\n",
      "OI. Eu sou:  7\n",
      "OI. Eu sou:  8\n",
      "OI. Eu sou:  9\n",
      "OI. Eu sou:  10\n",
      "OI. Eu sou:  11\n",
      "OI. Eu sou:  12\n",
      "OI. Eu sou:  13\n",
      "OI. Eu sou:  14\n",
      "OI. Eu sou:  15\n",
      "OI. Eu sou:  16\n",
      "OI. Eu sou:  17\n",
      "OI. Eu sou:  18\n",
      "OI. Eu sou:  19\n"
     ]
    }
   ],
   "source": [
    "for i in np.arange(20):\n",
    "    print(\"OI. Eu sou: \", i)"
   ]
  },
  {
   "cell_type": "code",
   "execution_count": 23,
   "metadata": {},
   "outputs": [
    {
     "name": "stdout",
     "output_type": "stream",
     "text": [
      "[[0 1]\n",
      " [2 3]\n",
      " [4 5]\n",
      " [6 7]\n",
      " [8 9]]\n",
      "Ravel:  [0 1 2 3 4 5 6 7 8 9]\n",
      "Flatten:  [0 1 2 3 4 5 6 7 8 9]\n",
      "Repeat:  [[0 0 1 1]\n",
      " [2 2 3 3]\n",
      " [4 4 5 5]\n",
      " [6 6 7 7]\n",
      " [8 8 9 9]]\n"
     ]
    }
   ],
   "source": [
    "A = np.arange(10)\n",
    "\n",
    "A = np.reshape(A, (5,2))\n",
    "\n",
    "print(A)\n",
    "\n",
    "print(\"Ravel: \", A.ravel())\n",
    "\n",
    "print(\"Flatten: \", A.flatten())\n",
    "\n",
    "print(\"Repeat: \", np.repeat(A, 2).reshape((5,4)))"
   ]
  },
  {
   "cell_type": "code",
   "execution_count": 49,
   "metadata": {},
   "outputs": [
    {
     "name": "stdout",
     "output_type": "stream",
     "text": [
      "Mag: \n",
      " [[ 1.          1.41421356]\n",
      " [ 2.82842712  3.60555128]\n",
      " [ 5.          5.83095189]\n",
      " [ 7.21110255  8.06225775]\n",
      " [ 9.43398113 10.29563014]]\n",
      "Distance: \n",
      " 6.708203932499369\n",
      "\n"
     ]
    }
   ],
   "source": [
    "B = np.array([1,1,2,2,3,3,4,4,5,5]).reshape(5,2)\n",
    "\n",
    "Mag = ((A**2) + (B**2))**0.5\n",
    "\n",
    "print(\"Mag: \\n\" , Mag)\n",
    "\n",
    "Distance = np.linalg.norm(A-B)\n",
    "\n",
    "print(\"Distance: \\n\", Distance)\n",
    "print(\"\")"
   ]
  },
  {
   "cell_type": "markdown",
   "metadata": {},
   "source": [
    "### Exercise 14 (Calculate potential temperature from arrays of T and p):\n",
    "\n",
    "Write a function that takes a 2-D array of pressures (p, in hPa) and a\n",
    "2-D array of temperatures (T, in K) and returns the corresponding potential\n",
    "temperature, assuming a reference pressure (p0) of 1000 hPa. Thus, the function’s\n",
    "return value is an array of the same shape and type as the input arrays.\n",
    "Recall that potential temperature θ is given by:\n",
    "\n",
    "θ = T * (p0/p)**κ\n",
    "\n",
    "where κ is the ratio of the gas constant of dry air to the specific heat of dry\n",
    "air at constant pressure and equals approximately 0.286."
   ]
  },
  {
   "cell_type": "code",
   "execution_count": 24,
   "metadata": {},
   "outputs": [],
   "source": [
    "# solução:\n",
    "\n",
    "def Potential_temperature(T, po=1000, kappa=0.286):\n",
    "\n",
    "    Theta = T*(po/p)**kappa\n",
    "    \n",
    "    return Theta\n",
    "    \n",
    "    "
   ]
  },
  {
   "cell_type": "markdown",
   "metadata": {},
   "source": [
    "### Exercise 15 (Calculating wind speed from u and v):\n",
    "\n",
    "Write a function that takes two 2-D arrays—an array of horizontal, zonal east-west) wind components (u, in m/s) and an array of horizontal, meridional (north-south) wind components (v, in m/s)—and returns a 2-D array of the magnitudes of the total wind, if the wind is over a minimum magnitude, and the minimum magnitude value otherwise. (We might presume that in\n",
    "this particular domain only winds above some minimum constitute “good” data while those below the minimum are indistinguishable from the minimum due to noise or should be considered equal to the minimum in order to properly represent the effects of some quantity like friction.)\n",
    "Thus, your input will be arrays u and v, as well as the minimum magnitude value. The function’s return value is an array of the same shape and type as the input arrays.\n"
   ]
  },
  {
   "cell_type": "code",
   "execution_count": 50,
   "metadata": {},
   "outputs": [],
   "source": [
    "def Wind_Magnitudes(u, v, minmag=0.1):\n",
    "    mag = ((u**2) + (v**2))**0.5\n",
    "    \n",
    "    output = np.where(mag > minmag, mag, minmag)\n",
    "    \n",
    "    return output"
   ]
  },
  {
   "cell_type": "markdown",
   "metadata": {},
   "source": [
    "# Criando um netcdf:"
   ]
  },
  {
   "cell_type": "code",
   "execution_count": 67,
   "metadata": {},
   "outputs": [],
   "source": [
    "from netCDF4 import *\n",
    "import numpy as np\n",
    "\n",
    "fileobj = Dataset('new_NETCDF.nc', mode='w')\n",
    "lat = np.arange(10, dtype='f')\n",
    "lon = np.arange(20, dtype='f')\n",
    "data1 = np.reshape(np.sin(np.arange(200, dtype='f')*0.1), (10,20))\n",
    "\n",
    "data2 = 42.0\n",
    "\n",
    "# criando dimensoes do arquivo:\n",
    "fileobj.createDimension(\"lat\", len(lat))\n",
    "fileobj.createDimension(\"lon\", len(lon))\n",
    "\n",
    "# criando variáveis:\n",
    "    # primeiro \"lat\" é o nome da variável a ser criada.\n",
    "    # segundo \"lat\" é o nome da dimensão em que a var será atribuida.\n",
    "lat_var = fileobj.createVariable(\"lat\", \"f\", (\"lat\",)) \n",
    "lon_var = fileobj.createVariable(\"lon\", \"f\", (\"lon\",))\n",
    "data1_var = fileobj.createVariable(\"data1\", \"f\", (\"lat\",\"lon\"))\n",
    "data2_var = fileobj.createVariable(\"data2\", \"f\", ()) # como data2 é um scalar, a dimensão na tupla é vazia\n",
    "\n",
    "# atribuindo valores às variaveis do netcdf:\n",
    "\n",
    "lat_var[:] = lat[:]\n",
    "lon_var[:] = lon[:]\n",
    "data1_var[:,:] = data1[:,:]\n",
    "data1_var.units = \"kg\"\n",
    "data2_var.assignValue(data2)\n",
    "fileobj.title = \"New netCDF file\"\n",
    "crs = fileobj.createVariable('spatial_ref', 'i4', ())\n",
    "crs.spatial_ref='GEOGCS[\"WGS 84\",DATUM[\"WGS_1984\",SPHEROID[\"WGS 84\",6378137,298.257223563,AUTHORITY[\"EPSG\",\"7030\"]],AUTHORITY[\"EPSG\",\"6326\"]],PRIMEM[\"Greenwich\",0,AUTHORITY[\"EPSG\",\"8901\"]],UNIT[\"degree\",0.0174532925199433,AUTHORITY[\"EPSG\",\"9122\"]],AUTHORITY[\"EPSG\",\"4326\"]]'\n",
    "fileobj.close()\n"
   ]
  },
  {
   "cell_type": "markdown",
   "metadata": {},
   "source": [
    "# A “Real” AOS Project: Putting Together a Basic Data Analysis Routine\n",
    "\n",
    "## Defining your own class"
   ]
  },
  {
   "cell_type": "code",
   "execution_count": 225,
   "metadata": {},
   "outputs": [],
   "source": [
    "class Book(object):\n",
    "    def __init__(self, authorlast, authorfirst, title, place, publisher, year):\n",
    "        self.authorlast = authorlast\n",
    "        self.authorfirst = authorfirst\n",
    "        self.title = title\n",
    "        self.place = place\n",
    "        self.publisher = publisher\n",
    "        self.year = year\n",
    "\n",
    "    def make_authoryear(self):\n",
    "        self.authoryear = self.authorlast + '(' + self.year +')'\n",
    "\n",
    "    def write_bib_entry(self):\n",
    "        return self.authorlast + ', ' + self.authorfirst \\\n",
    "                               + ', ' + self.title + ', ' + self.place \\\n",
    "                               + ':  ' + self.publisher + ', ' \\\n",
    "                               + self.year + '.'\n",
    "\n",
    "    def __doc__(self):\n",
    "        \"\"\"\n",
    "        Classe de objetos criada pelo usuário como exemplo! \\n\n",
    "        \n",
    "        Metodos da classe: __init__ ; __doc__ ; write_bib_entry  \\n\n",
    "        \n",
    "        # atributos (dados) da classe: \n",
    "            self.authorlast, self.authorfirst, self.title, \\n \n",
    "            self.place, self.publisher, self.year\n",
    "        \n",
    "        \"\"\"\n",
    "    \n",
    "    \n",
    "beauty = Book( \"Dubay\", \"Thomas\" , \"The Evidential Power of Beauty\" ,\n",
    "              \"San Francisco\" , \"Ignatius Press\", \"1999\" )\n",
    "\n",
    "beauty.write_bib_entry()\n",
    "\n",
    "pynut = Book( \"Martelli\", \"Alex\" , \"Python in a Nutshell\" ,\n",
    "             \"Sebastopol, CA\" , \"O’Reilly Media, Inc.\", \"2003\" )"
   ]
  },
  {
   "cell_type": "markdown",
   "metadata": {},
   "source": [
    "### Example 49 (Using instances of Book):\n",
    "Consider the Book definition given in Example 48. Here are some questions\n",
    "to test your understanding of what it does:\n",
    "1. How would you print out the author attribute of the pynut instance\n",
    "(at the interpreter, after running the file)?\n",
    "\n",
    "2. How would you change the publication year for the beauty book to\n",
    "\"2010\"?\n"
   ]
  },
  {
   "cell_type": "code",
   "execution_count": 79,
   "metadata": {},
   "outputs": [
    {
     "name": "stdout",
     "output_type": "stream",
     "text": [
      "author attribute:  Alex\n"
     ]
    }
   ],
   "source": [
    "\n",
    "# 1)\n",
    "print(\"author attribute: \", pynut.authorfirst)\n",
    "\n",
    "# 2) \n",
    "\n",
    "beauty.year = 2010"
   ]
  },
  {
   "cell_type": "code",
   "execution_count": 224,
   "metadata": {},
   "outputs": [],
   "source": [
    "# class article:\n",
    "\n",
    "class Article(object):\n",
    "    def __init__(self, authorlast, authorfirst, articletitle, journaltitle,\n",
    "                 volume, pages, year):\n",
    "        self.authorlast = authorlast\n",
    "        self.authorfirst = authorfirst\n",
    "        self.articletitle = articletitle\n",
    "        self.journaltitle = journaltitle\n",
    "        self.volume = volume\n",
    "        self.pages = pages\n",
    "        self.year = year\n",
    "\n",
    "    def make_authoryear(self):\n",
    "        self.authoryear = self.authorlast + ' (' + self.year +')'\n",
    "\n",
    "    def write_bib_entry(self):\n",
    "        return self.authorlast + ', ' + self.authorfirst \\\n",
    "                               + ' (' + self.year + '):  ' \\\n",
    "                               + '\"' + self.articletitle + ',\" ' \\\n",
    "                               + self.journaltitle + ', ' \\\n",
    "                               + self.volume + ', ' + self.pages + '.'"
   ]
  },
  {
   "cell_type": "markdown",
   "metadata": {},
   "source": [
    "# Case study 1: The bibliography example\n",
    "\n",
    "write a Bibliography class that will manage a bibliography, given instances of Book and Article objects.\n",
    "\n",
    "Next, we write methods for Bibliography that can manipulate the list\n",
    "of Book and Article instances. To that end, the first two methods we\n",
    "write for Bibliography will do the following: initialize an instance of the\n",
    "class; rearrange the list alphabetically based upon last name then first name.\n",
    "The initialization method is called init (as always), and the rearranging\n",
    "method will be called sort entries alpha. Here is the code:"
   ]
  },
  {
   "cell_type": "code",
   "execution_count": 226,
   "metadata": {},
   "outputs": [
    {
     "name": "stdout",
     "output_type": "stream",
     "text": [
      "Entries list before sort:  \n",
      "     Dubay\n",
      "Entries list before sort:  \n",
      "     Martelli\n",
      "Entries list before sort:  \n",
      "     Smith\n",
      "Entries list before sort:  \n",
      "     Doe\n",
      "Entries list before sort:  \n",
      "     Doe\n",
      "\n",
      "\n",
      "\n",
      "\n",
      "Entries list after sort:  \n",
      "     Doe\n",
      "Entries list after sort:  \n",
      "     Doe\n",
      "Entries list after sort:  \n",
      "     Dubay\n",
      "Entries list after sort:  \n",
      "     Martelli\n",
      "Entries list after sort:  \n",
      "     Smith\n",
      "\n",
      "\n",
      "\n",
      "\n",
      "Write out bibliography:  \n",
      " Doe, John (2005):  \"My no-one-has-heard-of paper,\" J. Irreproducible Results, 49, 34-36.\n",
      "\n",
      "Doe, Samuel (2011):  \"My almost Nobel prize-winning paper,\" Science, 500, 36-38.\n",
      "\n",
      "Dubay, Thomas, The Evidential Power of Beauty, San Francisco:  Ignatius Press, 1999.\n",
      "\n",
      "Martelli, Alex, Python in a Nutshell, Sebastopol, CA:  O'Reilly Media, Inc., 2003.\n",
      "\n",
      "Smith, Jane (2012):  \"My Nobel prize-winning paper,\" Nature, 481, 234-236.\n"
     ]
    }
   ],
   "source": [
    "import operator\n",
    "\n",
    "class Bibliography(object):\n",
    "    def __init__(self, entrieslist):\n",
    "        self.entrieslist = entrieslist # list of Book and Article instances that are being passed into an instance of the Bibliography class\n",
    "    \n",
    "    def sort_entries_alpha(self):\n",
    "        tmp = sorted(self.entrieslist, key=operator.attrgetter(\"authorlast\",\"authorfirst\"))\n",
    "        self.entrieslist = tmp\n",
    "        del tmp\n",
    "        \n",
    "    def write_bibliog_alpha(self):\n",
    "        self.sort_entries_alpha()\n",
    "        output = ''\n",
    "        for ientry in self.entrieslist:\n",
    "            output = output + ientry.write_bib_entry() + '\\n\\n'\n",
    "        return output[:-2] # as ultimas duas linhas de espaço são desprezadas.\n",
    "    \n",
    "# criando instancias:\n",
    "\n",
    "beauty = Book( \"Dubay\", \"Thomas\", \"The Evidential Power of Beauty\",\n",
    "               \"San Francisco\", \"Ignatius Press\", \"1999\", )\n",
    "pynut = Book( \"Martelli\", \"Alex\", \"Python in a Nutshell\",\n",
    "              \"Sebastopol, CA\", \"O'Reilly Media, Inc.\", \"2003\" )\n",
    "\n",
    "nature = Article( \"Smith\", \"Jane\", \"My Nobel prize-winning paper\",\n",
    "                  \"Nature\", \"481\", \"234-236\", \"2012\" )\n",
    "science = Article( \"Doe\", \"Samuel\", \"My almost Nobel prize-winning paper\",\n",
    "                  \"Science\", \"500\", \"36-38\", \"2011\" )\n",
    "noname = Article( \"Doe\", \"John\", \"My no-one-has-heard-of paper\",\n",
    "                  \"J. Irreproducible Results\", \"49\", \"34-36\", \"2005\" )\n",
    "\n",
    "\n",
    "\n",
    "mybib = Bibliography([beauty, pynut, nature, science, noname])\n",
    "\n",
    "for i in mybib.entrieslist:\n",
    "    print ('Entries list before sort:  \\n    ', i.authorlast)\n",
    "    \n",
    "mybib.sort_entries_alpha()\n",
    "print(\"\\n\\n\\n\")\n",
    "for i in mybib.entrieslist:\n",
    "    print ('Entries list after sort:  \\n    ', i.authorlast)\n",
    "\n",
    "print(\"\\n\\n\\n\")   \n",
    "\n",
    "\n",
    "print ('Write out bibliography:  \\n', mybib.write_bibliog_alpha())"
   ]
  },
  {
   "cell_type": "markdown",
   "metadata": {},
   "source": [
    "# Case study 2: Creating a class for geosciences work—Surface domain management\n",
    "\n",
    "## Exercise 24 (Defining a SurfaceDomain class):\n",
    "\n",
    "Define a class SurfaceDomain that describes surface domain instances.\n",
    "The domain is a land or ocean surface region whose spatial extent is described\n",
    "by a latitude-longitude grid. The class is instantiated when you provide\n",
    "a vector of longitudes and latitudes; the surface domain is a regular\n",
    "grid based on these vectors. Surface parameters (e.g., elevation, temperature,\n",
    "roughness, etc.) can then be given as instance attributes. The quantities\n",
    "are given on the domain grid.\n",
    "\n",
    "In addition, in the class definition, provide an instantiation method that\n",
    "saves the input longitude and latitude vectors as appropriately named attributes\n",
    "and creates 2-D arrays of the shape of the domain grid which have\n",
    "the longitude and latitude values at each point and saves them as private attributes\n",
    "(i.e., their names begin with a single underscore)."
   ]
  },
  {
   "cell_type": "code",
   "execution_count": null,
   "metadata": {},
   "outputs": [],
   "source": [
    "import numpy as np\n",
    "\n",
    "class SurfaceDomain():\n",
    "    def __init__(self, lon, lat):\n",
    "        self.lon = np.array(lon)\n",
    "        self.lat = np.array(lat)\n",
    "        \n",
    "        self.Llon, self.Llat = np.meshgrid(self.lon, self.lat)\n",
    "        \n",
    "        "
   ]
  },
  {
   "cell_type": "markdown",
   "metadata": {},
   "source": [
    "# como lidar com múltiplas bordas (limites espaciais):\n",
    "\n",
    "pretend you have multiple SurfaceDomain instances that\n",
    "you want to communicate to each other, where the bounds of one are taken\n",
    "from (or interpolated with) the bounds of another, e.g., calculations for each\n",
    "domain instance are farmed out to a separate processor, and you’re stitching\n",
    "domains together:\n",
    "\n",
    "## in procedural programming:\n",
    "\n",
    "In procedural programming, to manage this set of overlapping domains, you might create a grand domain encompassing all points in all the domains to make an index that keeps track of which domains abut one another. The index records who contributes data to these boundary regions. Alternately, you might create a function that processes only the neighboring domains, but\n",
    "this function will be called from a scope that has access to all the domains\n",
    "(e.g., via a common block).\n",
    "\n",
    "\n",
    "## in object oriented programming (OOP):\n",
    "\n",
    "In order to manage this set of overlapping domains, you don’t really need\n",
    "such a global view nor access to all domains. In fact, a global index or a\n",
    "common block means that if you change your domain layout, you have to\n",
    "hand-code a change to your index/common block. Rather, what you actually\n",
    "need is only to be able to interact with your neighbor. So why not just write a\n",
    "method that takes your neighboring SurfaceDomain instances as arguments and alters the boundaries accordingly? That is, why not add the following to the SurfaceDomain class definition:\n",
    "\n",
    "### resposta:\n",
    "\n",
    "Such a method will propagate to all SurfaceDomain instances automatically,\n",
    "once written in the class definition. Thus, you only have to write one\n",
    "(relatively) small piece of code that can then affect any number of layouts\n",
    "of SurfaceDomain instances. Again, object-oriented programming enables\n",
    "you to push the level at which you code to solve a problem down to a lowerlevel\n",
    "than procedural programming easily allows. As a result, you can write\n",
    "smaller, better tested bit of code; this makes your code more robust and flexible."
   ]
  },
  {
   "cell_type": "code",
   "execution_count": 121,
   "metadata": {},
   "outputs": [],
   "source": [
    "import numpy as np\n",
    "\n",
    "class SurfaceDomain():\n",
    "    def __init__ (self, lon, lat):\n",
    "        self.lon = np.array(lon)\n",
    "        self.lat = np.array(lat)\n",
    "        \n",
    "        self.Llon, self.Llat = np.meshgrid(self.lon, self.lat)\n",
    "\n",
    "    def syncbounds(self, northobj, southobj, eastobj, westobj):\n",
    "        XX_Bounds = np.where((self.Llon <= northobj) & (self.Llon >= southobj))\n",
    "        YY_Bounds = np.where((self.Llat <= eastobjt) & (self.Llat >= westobj))\n",
    "        \n",
    "        return [XX_Bounds, YY_Bounds]\n",
    "        "
   ]
  },
  {
   "cell_type": "markdown",
   "metadata": {},
   "source": [
    "# Chapter 8: \n",
    "\n",
    "## An Introduction to OOP Using Python: Part II—Application to Atmospheric Sciences Problems"
   ]
  },
  {
   "cell_type": "markdown",
   "metadata": {},
   "source": [
    "### Masked Arrays - Booleans:\n",
    "\n",
    "#### Obs: Remember, bad values (i.e., the missing values) have mask values set to True in a masked array"
   ]
  },
  {
   "cell_type": "code",
   "execution_count": 167,
   "metadata": {},
   "outputs": [
    {
     "name": "stdout",
     "output_type": "stream",
     "text": [
      "[0 1 2 3 4]\n",
      "(array([3, 4], dtype=int64),)\n",
      "b data:  [0 1 2 3 4]\n",
      "b mask:  [False False False  True  True]\n",
      "[nan nan nan  3.  4.]\n"
     ]
    }
   ],
   "source": [
    "print(np.arange(5))\n",
    "\n",
    "ma = np.where(np.arange(5) >= 3)\n",
    "\n",
    "print(ma)\n",
    "\n",
    "b = np.ma.masked_greater(np.arange(5), 2)\n",
    "\n",
    "print(\"b data: \", b.data)\n",
    "\n",
    "print(\"b mask: \", b.mask)\n",
    "\n",
    "ma_C = b.data * np.where(b.mask == False, np.nan, b.mask)\n",
    "\n",
    "print(ma_C)"
   ]
  },
  {
   "cell_type": "code",
   "execution_count": 2,
   "metadata": {},
   "outputs": [
    {
     "name": "stdout",
     "output_type": "stream",
     "text": [
      "[-- -- 3]\n"
     ]
    }
   ],
   "source": [
    "# Caso 2:\n",
    "import numpy as np\n",
    "a = np.ma.masked_array(data=[1,2,3], mask=[True, True, False], fill_value=10**5)\n",
    "\n",
    "print(a)\n",
    "\n"
   ]
  },
  {
   "cell_type": "code",
   "execution_count": 171,
   "metadata": {},
   "outputs": [
    {
     "name": "stdout",
     "output_type": "stream",
     "text": [
      "[1 2 3 --]\n",
      "[False False  True  True False]\n"
     ]
    }
   ],
   "source": [
    "# caso 3:\n",
    "\n",
    "a = np.ma.masked_greater([1,2,3,4], 3)\n",
    "\n",
    "print(a)\n",
    "data = np.array([1,2,3,4,5])\n",
    "b = np.ma.masked_where((data>2) & (data<5), data)\n",
    "\n",
    "print(b.mask)"
   ]
  },
  {
   "cell_type": "code",
   "execution_count": 177,
   "metadata": {},
   "outputs": [
    {
     "name": "stdout",
     "output_type": "stream",
     "text": [
      "[0 0 3 4 0]\n",
      "[     1      2 999999 999999      5]\n",
      "[     1      2 999999 999999      5]\n"
     ]
    }
   ],
   "source": [
    "# Notar como np.ma.filled é o inverso de (b.data * b.mask):\n",
    "a = np.ma.masked_greater([1,2,3,4], 3)\n",
    "b = np.ma.masked_where((data>2) & (data<5), data)\n",
    "\n",
    "# multiplicando pelo mask retorna todos os valores que foram mascarados\n",
    "\n",
    "print(b.data * b.mask)\n",
    "\n",
    "# usando np.ma.filled: retorna todos os valores que não foram mascarados\n",
    "\n",
    "print(  np.ma.filled(b)  )\n",
    "\n",
    "print(   b.filled())\n",
    "\n"
   ]
  },
  {
   "cell_type": "markdown",
   "metadata": {},
   "source": [
    "## Exercise using masked Arrays:\n",
    "\n",
    "Open the example netCDF NCEP/NCAR Reanalysis 1 netCDF dataset\n",
    "of monthly mean surface/near-surface air temperature (or the netCDF dataset\n",
    "you brought) and read in the values of the air, lat, and lon variables into\n",
    "NumPy arrays. Take only the first time slice of the air temperature data. \n",
    "\n",
    "Create an array that masks out temperatures in that time slice in all locations\n",
    "greater than 45◦N and less than 45◦S. \n",
    "\n",
    "Convert all those temperature\n",
    "values to K (the dataset temperatures are in ◦C). Some hints:\n",
    " "
   ]
  },
  {
   "cell_type": "code",
   "execution_count": 26,
   "metadata": {},
   "outputs": [],
   "source": [
    "# exercicios:\n",
    "import numpy as np\n",
    "from netCDF4 import *\n",
    "\n",
    "Air_mon_mean_nc = Dataset(r'C:\\Doutorado\\Estudo_Python\\jwblin-course_files-cd5df00\\datasets\\air.mon.mean.nc')\n",
    "\n",
    "Lat = Air_mon_mean_nc.variables['lat']\n",
    "\n",
    "Lon = Air_mon_mean_nc.variables['lon']\n",
    "\n",
    "Time = Air_mon_mean_nc.variables['time']\n",
    "\n",
    "Air_temp = Air_mon_mean_nc.variables['air']\n",
    "\n"
   ]
  },
  {
   "cell_type": "code",
   "execution_count": 27,
   "metadata": {},
   "outputs": [
    {
     "name": "stdout",
     "output_type": "stream",
     "text": [
      "[[1.e+20 1.e+20 1.e+20 ... 1.e+20 1.e+20 1.e+20]\n",
      " [1.e+20 1.e+20 1.e+20 ... 1.e+20 1.e+20 1.e+20]\n",
      " [1.e+20 1.e+20 1.e+20 ... 1.e+20 1.e+20 1.e+20]\n",
      " ...\n",
      " [1.e+20 1.e+20 1.e+20 ... 1.e+20 1.e+20 1.e+20]\n",
      " [1.e+20 1.e+20 1.e+20 ... 1.e+20 1.e+20 1.e+20]\n",
      " [1.e+20 1.e+20 1.e+20 ... 1.e+20 1.e+20 1.e+20]]\n",
      "North pole:  --\n",
      "South pole:  --\n",
      "Equator:  22.829353\n"
     ]
    }
   ],
   "source": [
    "# 1) mask arrays:\n",
    "\n",
    "# bounds:\n",
    "\n",
    "Lim_N = 45\n",
    "\n",
    "Lim_S = -45\n",
    "\n",
    "\n",
    "Lonall, Latall = np.meshgrid(Lon, Lat)\n",
    "\n",
    "Air_temp_ma = np.ma.masked_where((Latall[:]<Lim_S) | (Latall[:]>Lim_N)  , Air_temp[0,:,:])\n",
    "\n",
    "print(   Air_temp_ma.filled() )\n",
    "\n",
    "\n",
    "\n",
    "print ('North pole: ', Air_temp_ma[0,10])\n",
    "print ('South pole: ', Air_temp_ma[-1,10])\n",
    "print ('Equator: ', Air_temp_ma[36,10])"
   ]
  },
  {
   "cell_type": "code",
   "execution_count": 34,
   "metadata": {},
   "outputs": [
    {
     "data": {
      "image/png": "[encoded data removed]",
      "text/plain": [
       "<matplotlib.figure.Figure at 0xd899828>"
      ]
     },
     "metadata": {},
     "output_type": "display_data"
    }
   ],
   "source": [
    "import matplotlib.pyplot as plt\n",
    "\n",
    "T_time0 = Air_temp[0,:,:]\n",
    "\n",
    "mymapf = plt.contourf(Lonall, Latall, T_time0, 10, cmap=plt.cm.Reds)\n",
    "mymap = plt.contour(Lonall, Latall, T_time0, 10, colors=\"k\")\n",
    "plt.clabel(mymap, fontsize=12)\n",
    "plt.axis([0, 360, -90, 90])\n",
    "plt.xlabel(\"Longitude [\" + Lon.units + \"]\")\n",
    "plt.ylabel(\"Latitude [\" + Lat.units + \"]\")\n",
    "plt.colorbar(mymapf, orientation=\"horizontal\", label = Air_temp.units)\n",
    "\n",
    "plt.savefig(\"exercise-T-contour.png\")\n",
    "plt.show()\n"
   ]
  },
  {
   "cell_type": "markdown",
   "metadata": {},
   "source": [
    "## secondary quantities (ex. virtual temperature, vorticity, etc.)\n",
    "\n",
    "    1) são derivados das ´quantities (variables) primárias (e.g. temperature, pressure, etc.)\n",
    "    \n",
    "## Problemas de otimização de programação:\n",
    "\n",
    "    1) Como otimizar memória para realização de análise dinâmica: >>> uso de classes (instance)\n",
    "\n",
    "### We define an object class Atmosphere where the following occurs:\n",
    "\n",
    "• Atmospheric quantities are assigned to attributes of instances of the\n",
    "class.\n",
    "\n",
    "• Methods to calculate atmospheric secondary quantities:\n",
    "– Check to make sure the required quantity exists as an attribute.\n",
    "– If it doesn’t exist, the method is executed to calculate that quantity.\n",
    "– After the quantity is calculated, it is set as an attribute of the\n",
    "object instance.\n",
    "\n",
    "### funções de atributos para objetos:\n",
    "\n",
    "1) hasattr: \n",
    "    - recebe 2 argumentos: (objeto da pesquisa, nome do atributo ou método de busca)\n",
    "    \n",
    "2) delattr:\n",
    "    - recebe 2 argumentos: (objeto da pesquisa, nome do atributo a ser deletado)\n",
    "    \n",
    "3) setattr:\n",
    "    - recebe 3 argumentos: (objeto da pesquisa, nome do atributo a ser criado, novo valor a ser atribuido)\n"
   ]
  },
  {
   "cell_type": "code",
   "execution_count": null,
   "metadata": {},
   "outputs": [],
   "source": [
    "class Atmosphere(object):\n",
    "    def __init__(self, **kwds):\n",
    "        for ikey in kwds.keys():\n",
    "            if hasattr(self, ikey) == False:\n",
    "                setattr(self, ikey, kwds[ikey])\n",
    "                \n",
    "            else:\n",
    "                return ikey.items()\n",
    "            \n",
    "    def Delattr(self, **kwds):\n",
    "        for ikey in kwds.keys():\n",
    "            delattr(self, ikey)\n",
    "            \n",
    "    def calc_rho(self):\n",
    "        if not hasattr(self, 'T_v'):\n",
    "            self.calc_virt_temp()\n",
    "    \n",
    "        elif not hasattr(self, 'p'):\n",
    "            self.calc_press()\n",
    "\n",
    "        else:\n",
    "            raise ValueError, \"cannot obtain given initial quantities\"\n",
    "\n",
    "        self.rho = [... find air density from self.T_v and\n",
    "                      self.p ...]\n"
   ]
  },
  {
   "cell_type": "code",
   "execution_count": 10,
   "metadata": {},
   "outputs": [],
   "source": [
    "class Pessoa():\n",
    "    def __init__(self, nome, idade, peso):\n",
    "        self.nome = nome\n",
    "        self.peso = peso\n",
    "        self.idade = idade\n",
    "        self.x = 0\n",
    "        self.y = 0\n",
    "    def andar(self, x, y):\n",
    "        self.x = self.x + x\n",
    "        self.y +=y\n",
    "\n",
    "        \n",
    "Sheila_1 = Pessoa('Camila', peso=50, idade=32)\n",
    "\n"
   ]
  },
  {
   "cell_type": "code",
   "execution_count": 17,
   "metadata": {},
   "outputs": [],
   "source": [
    "class Phi_numero():\n",
    "    def __init__(self, x=0):\n",
    "        self.x=x\n",
    "    def __add__(self, *values):\n",
    "        for v in values:\n",
    "            self.x += v\n",
    "        return self.x"
   ]
  },
  {
   "cell_type": "code",
   "execution_count": 20,
   "metadata": {},
   "outputs": [
    {
     "data": {
      "text/plain": [
       "6"
      ]
     },
     "execution_count": 20,
     "metadata": {},
     "output_type": "execute_result"
    }
   ],
   "source": [
    "P = Phi_numero(1)\n",
    "\n",
    "P + 2 + 3"
   ]
  },
  {
   "cell_type": "code",
   "execution_count": 14,
   "metadata": {},
   "outputs": [],
   "source": [
    "Sheila_1.andar(10, -2)"
   ]
  },
  {
   "cell_type": "code",
   "execution_count": 15,
   "metadata": {},
   "outputs": [
    {
     "name": "stdout",
     "output_type": "stream",
     "text": [
      "10\n"
     ]
    },
    {
     "data": {
      "text/plain": [
       "-2"
      ]
     },
     "execution_count": 15,
     "metadata": {},
     "output_type": "execute_result"
    }
   ],
   "source": [
    "print(Sheila_1.x)\n",
    "Sheila_1.y"
   ]
  }
 ],
 "metadata": {
  "kernelspec": {
   "display_name": "Python 3",
   "language": "python",
   "name": "python3"
  },
  "language_info": {
   "codemirror_mode": {
    "name": "ipython",
    "version": 3
   },
   "file_extension": ".py",
   "mimetype": "text/x-python",
   "name": "python",
   "nbconvert_exporter": "python",
   "pygments_lexer": "ipython3",
   "version": "3.6.4"
  }
 },
 "nbformat": 4,
 "nbformat_minor": 2
}
